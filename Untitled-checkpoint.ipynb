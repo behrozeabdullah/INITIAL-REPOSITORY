{
 "cells": [
  {
   "cell_type": "code",
   "execution_count": null,
   "metadata": {},
   "outputs": [],
   "source": [
    "bicycles = [\"terk\" , 'cannondale' , \"redline\" , \"specialized\"]\n",
    "print(bicycles)"
   ]
  },
  {
   "cell_type": "code",
   "execution_count": null,
   "metadata": {},
   "outputs": [],
   "source": [
    "bicycles = [\"terk\" , 'cannondale' , \"redline\" , \"specialized\"]\n",
    "print(bicycles[0])\n",
    "print(bicycles[3])"
   ]
  },
  {
   "cell_type": "code",
   "execution_count": 11,
   "metadata": {},
   "outputs": [
    {
     "name": "stdout",
     "output_type": "stream",
     "text": [
      "specialized\n",
      "cannondale\n"
     ]
    }
   ],
   "source": [
    "bicycles = [\"terk\" , 'cannondale' , \"redline\" , \"specialized\"]\n",
    "print(bicycles[-1])\n",
    "print(bicycles[-3])"
   ]
  },
  {
   "cell_type": "code",
   "execution_count": null,
   "metadata": {},
   "outputs": [],
   "source": [
    "car = ['honda' , 'suzuki' , 'ferrari' , 'audi' , 'toyota']\n",
    "messaage = \"my favourite car is \" .+ \"car\""
   ]
  },
  {
   "cell_type": "code",
   "execution_count": null,
   "metadata": {},
   "outputs": [],
   "source": [
    "car = ['honda' , 'suzuki' , 'ferrari' , 'audi' , 'toyota']\n",
    "print(car)"
   ]
  },
  {
   "cell_type": "code",
   "execution_count": null,
   "metadata": {},
   "outputs": [],
   "source": [
    "car[2] = \"v8\"\n",
    "print(car)"
   ]
  },
  {
   "cell_type": "code",
   "execution_count": null,
   "metadata": {},
   "outputs": [],
   "source": [
    "car.append('yamaha')\n",
    "print(car)"
   ]
  },
  {
   "cell_type": "code",
   "execution_count": null,
   "metadata": {},
   "outputs": [],
   "source": []
  },
  {
   "cell_type": "code",
   "execution_count": null,
   "metadata": {},
   "outputs": [],
   "source": [
    "motorcycle = []\n",
    "\n",
    "motorcycle.append('honda')\n",
    "motorcycle.append('yamaha')\n",
    "motorcycle.append('suzuki')\n",
    "\n",
    "print(motorcycle)"
   ]
  },
  {
   "cell_type": "code",
   "execution_count": null,
   "metadata": {},
   "outputs": [],
   "source": [
    "motorcycle = ['honda', 'yamaha', 'suzuki']\n",
    "motorcycle.insert(0 , 'harley davidson')\n",
    "print(motorcycle)"
   ]
  },
  {
   "cell_type": "code",
   "execution_count": null,
   "metadata": {},
   "outputs": [],
   "source": [
    "friends = ['zohiab' , 'umer' , 'ali' , 'hamza' , 'jahanzaib' , 'ahmed' , 'ahsan']\n",
    "print(friends.index(\"umer\"))\n",
    "friends.remove('umer')\n",
    "friends"
   ]
  },
  {
   "cell_type": "code",
   "execution_count": null,
   "metadata": {},
   "outputs": [],
   "source": [
    "todo_list = ['task a' , 'task b' , 'task c' , 'task d' , 'task d']\n",
    "completetask = []\n",
    "print(todo_list)\n",
    "\n",
    "\n",
    "\n",
    "\n",
    "\n",
    "\n"
   ]
  },
  {
   "cell_type": "code",
   "execution_count": null,
   "metadata": {},
   "outputs": [],
   "source": [
    "status = input(\"enter your task: \")\n",
    "if status in todo_list:\n",
    "    index=todo_list.pop()\n",
    "    completetask.append(status)\n",
    "    print(completetask)\n",
    "    \n",
    "else:\n",
    "    print('this task is not in list')"
   ]
  },
  {
   "cell_type": "markdown",
   "metadata": {},
   "source": []
  },
  {
   "cell_type": "code",
   "execution_count": null,
   "metadata": {},
   "outputs": [],
   "source": [
    "#slicing\n",
    "#slicing always travel left to right\n",
    "#right to left [reversed slice -]\n",
    "#empty list shown when slicing is not done\n",
    "#start [start : end]\n"
   ]
  },
  {
   "cell_type": "code",
   "execution_count": null,
   "metadata": {},
   "outputs": [],
   "source": [
    "list1 = [9,8,7,6,5,4,3,2,1]\n",
    "#     = [0 1 2 3 4 5 6 7 8]"
   ]
  },
  {
   "cell_type": "code",
   "execution_count": null,
   "metadata": {},
   "outputs": [],
   "source": [
    "list2 = list1[2:5]\n",
    "list2"
   ]
  },
  {
   "cell_type": "code",
   "execution_count": null,
   "metadata": {},
   "outputs": [],
   "source": [
    "list3 =[-9,-8,-7,-6,-5,-4,-3,-2,-1]\n"
   ]
  },
  {
   "cell_type": "code",
   "execution_count": null,
   "metadata": {},
   "outputs": [],
   "source": [
    "list4 = list3[-2:-5]\n",
    "list4"
   ]
  },
  {
   "cell_type": "code",
   "execution_count": null,
   "metadata": {},
   "outputs": [],
   "source": [
    "list4 = list3[-5:-2]\n",
    "list4"
   ]
  },
  {
   "cell_type": "code",
   "execution_count": null,
   "metadata": {},
   "outputs": [],
   "source": [
    "friends = ['zohiab' , 'umer' , 'ali' , 'hamza' , 'jahanzaib' , 'ahmed' , 'ahsan']\n",
    "friends.sort()\n",
    "print(friends)"
   ]
  },
  {
   "cell_type": "code",
   "execution_count": null,
   "metadata": {},
   "outputs": [],
   "source": [
    "friends = ['zohiab' , 'umer' , 'ali' , 'hamza' , 'jahanzaib' , 'ahmed' , 'ahsan']\n",
    "friends.sort(reverse=True)\n",
    "print(friends)\n",
    "#inplace change\n"
   ]
  },
  {
   "cell_type": "code",
   "execution_count": null,
   "metadata": {},
   "outputs": [],
   "source": [
    "car = ['honda' , 'suzuki' , 'ferrari' , 'audi' , 'toyota']\n",
    "print(car)\n",
    "car.reverse()\n",
    "print(car)"
   ]
  },
  {
   "cell_type": "code",
   "execution_count": null,
   "metadata": {},
   "outputs": [],
   "source": [
    "list1 = ['zohiab' , 'umer' , 'ali' , 'hamza']\n",
    "print(list1[0])\n",
    "print(\"you are invited by me at dinner\")\n",
    "\n",
    "\n",
    "\n"
   ]
  },
  {
   "cell_type": "code",
   "execution_count": null,
   "metadata": {},
   "outputs": [],
   "source": [
    "list1 = ['zohiab' , 'umer' , 'ali' , 'hamza']\n",
    "list1.insert( 0, \"taha\")\n",
    "print(list1)\n"
   ]
  },
  {
   "cell_type": "code",
   "execution_count": null,
   "metadata": {},
   "outputs": [],
   "source": [
    "list1 = ['zohiab' , 'umer' , 'ali' , 'hamza']\n",
    "list1.insert( 2, \"sara\")\n",
    "print(list1)"
   ]
  },
  {
   "cell_type": "code",
   "execution_count": null,
   "metadata": {},
   "outputs": [],
   "source": [
    "list1 = ['zohiab', 'umer', 'sara', 'ali', 'hamza']\n",
    "list1.append(\"khan\")\n",
    "print(list1)"
   ]
  },
  {
   "cell_type": "code",
   "execution_count": null,
   "metadata": {},
   "outputs": [],
   "source": [
    "list1 = ['zohiab', 'umer', 'sara', 'ali', 'hamza', 'khan']\n",
    "print(\"you are invited by me \" + (list1[0]+ \".\" ))\n",
    "print(\"you are invited by me \" + (list1[1]+ \".\" ))\n",
    "print(\"you are invited by me \" + (list1[2]+ \".\" ))\n",
    "print(\"you are invited by me \" + (list1[3]+ \".\" ))\n",
    "print(\"you are invited by me \" + (list1[4]+ \".\" ))\n",
    "print(\"you are invited by me \" + (list1[5]+ \".\" ))"
   ]
  },
  {
   "cell_type": "code",
   "execution_count": null,
   "metadata": {},
   "outputs": [],
   "source": [
    "list1 = [1,2,3,4,5,6,7,8,9]\n",
    "list2 = list1.copy()"
   ]
  },
  {
   "cell_type": "code",
   "execution_count": null,
   "metadata": {},
   "outputs": [],
   "source": [
    "list1.append(100)\n",
    "print(list1)\n",
    "print(list2)"
   ]
  },
  {
   "cell_type": "code",
   "execution_count": null,
   "metadata": {},
   "outputs": [],
   "source": [
    "s= list2[:]"
   ]
  },
  {
   "cell_type": "code",
   "execution_count": null,
   "metadata": {},
   "outputs": [],
   "source": [
    "s.clear()"
   ]
  },
  {
   "cell_type": "code",
   "execution_count": null,
   "metadata": {},
   "outputs": [],
   "source": [
    "s"
   ]
  },
  {
   "cell_type": "code",
   "execution_count": null,
   "metadata": {},
   "outputs": [],
   "source": [
    "list1 = [1,2,3,4,5,6,7,8,9]\n",
    "list1.count(8)"
   ]
  },
  {
   "cell_type": "code",
   "execution_count": null,
   "metadata": {},
   "outputs": [],
   "source": [
    "del list1[2]"
   ]
  },
  {
   "cell_type": "code",
   "execution_count": null,
   "metadata": {},
   "outputs": [],
   "source": [
    "list1\n",
    "#delete index\n",
    "#remove value"
   ]
  },
  {
   "cell_type": "code",
   "execution_count": null,
   "metadata": {},
   "outputs": [],
   "source": [
    "list1 = [1,2,3,4,5,6,7,8,9]"
   ]
  },
  {
   "cell_type": "code",
   "execution_count": null,
   "metadata": {},
   "outputs": [],
   "source": [
    "list1.remove(9)"
   ]
  },
  {
   "cell_type": "code",
   "execution_count": null,
   "metadata": {},
   "outputs": [],
   "source": [
    "print(list1)"
   ]
  },
  {
   "cell_type": "code",
   "execution_count": null,
   "metadata": {},
   "outputs": [],
   "source": [
    "poppedV=list1.pop(2)"
   ]
  },
  {
   "cell_type": "code",
   "execution_count": null,
   "metadata": {},
   "outputs": [],
   "source": [
    "poppedV"
   ]
  },
  {
   "cell_type": "code",
   "execution_count": null,
   "metadata": {},
   "outputs": [],
   "source": [
    "list1.extend(\"9131313\")\n",
    "print(list1)"
   ]
  },
  {
   "cell_type": "code",
   "execution_count": null,
   "metadata": {},
   "outputs": [],
   "source": [
    "a = [1, 2, 4, 5, 6, 7, 8]\n",
    "sum(a)"
   ]
  },
  {
   "cell_type": "code",
   "execution_count": null,
   "metadata": {},
   "outputs": [],
   "source": [
    "max(a)"
   ]
  },
  {
   "cell_type": "code",
   "execution_count": null,
   "metadata": {},
   "outputs": [],
   "source": [
    "min(a)\n"
   ]
  },
  {
   "cell_type": "code",
   "execution_count": null,
   "metadata": {},
   "outputs": [],
   "source": [
    "listinlist = [list1 , 5 , [1,2,3,5,[5,7,8,9]]]"
   ]
  },
  {
   "cell_type": "code",
   "execution_count": null,
   "metadata": {},
   "outputs": [],
   "source": [
    "listinlist"
   ]
  },
  {
   "cell_type": "code",
   "execution_count": null,
   "metadata": {},
   "outputs": [],
   "source": [
    "listinlist[1][2][2]"
   ]
  },
  {
   "cell_type": "markdown",
   "metadata": {},
   "source": [
    "# looping/loops for loops"
   ]
  },
  {
   "cell_type": "code",
   "execution_count": null,
   "metadata": {},
   "outputs": [],
   "source": [
    "for a in range(10):\n",
    "    print(\"pakistan\")"
   ]
  },
  {
   "cell_type": "code",
   "execution_count": null,
   "metadata": {},
   "outputs": [],
   "source": [
    "for a in range(1,10,2):\n",
    "    print(a,\"pakistan\")\n",
    "#stepping by 2\n",
    "#odd"
   ]
  },
  {
   "cell_type": "code",
   "execution_count": null,
   "metadata": {},
   "outputs": [],
   "source": [
    "for a in range(5):\n",
    "    print(a,\"behroze\")"
   ]
  },
  {
   "cell_type": "code",
   "execution_count": null,
   "metadata": {},
   "outputs": [],
   "source": [
    "for a in range(0,10,2):\n",
    "    print(a,\"pakistan\")\n",
    "#even"
   ]
  },
  {
   "cell_type": "markdown",
   "metadata": {},
   "source": [
    "# HOW TO ACCESS MEMBERS OF LIST USING A FOR LOOP"
   ]
  },
  {
   "cell_type": "code",
   "execution_count": null,
   "metadata": {},
   "outputs": [],
   "source": [
    "list1 = [9,8,7,6,5,4,3,True,2,1]\n",
    "list1"
   ]
  },
  {
   "cell_type": "code",
   "execution_count": null,
   "metadata": {},
   "outputs": [],
   "source": [
    "for num in list1:\n",
    "    print(num,type(num))"
   ]
  },
  {
   "cell_type": "code",
   "execution_count": null,
   "metadata": {},
   "outputs": [],
   "source": [
    "for num in list1:\n",
    "    print(num)"
   ]
  },
  {
   "cell_type": "code",
   "execution_count": null,
   "metadata": {},
   "outputs": [],
   "source": [
    "for list1 in range(0,10,2):\n",
    "    print(list1)"
   ]
  },
  {
   "cell_type": "code",
   "execution_count": null,
   "metadata": {},
   "outputs": [],
   "source": [
    "for list1 in range(1,10,2):\n",
    "    print(list1)"
   ]
  },
  {
   "cell_type": "code",
   "execution_count": null,
   "metadata": {},
   "outputs": [],
   "source": [
    "for members in [\"apple\",\"oranges\",\"cakes\",\"drinks\"]:\n",
    "    print(members)"
   ]
  },
  {
   "cell_type": "code",
   "execution_count": null,
   "metadata": {},
   "outputs": [],
   "source": [
    "list1 = [9,8,7,6,5,4,3,2,1]"
   ]
  },
  {
   "cell_type": "code",
   "execution_count": null,
   "metadata": {},
   "outputs": [],
   "source": [
    "for member in list1:\n",
    "    if member%2 != 0:\n",
    "        print(str(member) + \" is odd\")\n",
    "    else:\n",
    "        print(str(member) + \" is even\")"
   ]
  },
  {
   "cell_type": "code",
   "execution_count": null,
   "metadata": {},
   "outputs": [],
   "source": [
    "for member in list1:\n",
    "    if member%2 != 0:\n",
    "        print(str(member) + \" is odd\")\n",
    "   \n",
    "       \n",
    "    "
   ]
  },
  {
   "cell_type": "code",
   "execution_count": null,
   "metadata": {},
   "outputs": [],
   "source": [
    "oddnumberlist = []\n",
    "evennumberlist = []\n",
    "message = \"\"\n",
    "\n",
    "list1 = [1,2,3,4,5,6,7,8,9,10]\n",
    "\n",
    "for num in list1:\n",
    "    if num%2 != 0:\n",
    "        oddnumberlist.append(num)\n",
    "    else:\n",
    "        evennumberlist.append(num)\n",
    "\n",
    "message += \"THESE ARE ODD NUMBERS :\"\n",
    "\n",
    "for odd in oddnumberlist:\n",
    "    message += \"and \"\n",
    "    \n",
    "for even in evennumberlist:\n",
    "    message += str(even) + \",\"\n",
    "    \n",
    "message += \"are even numbers\"\n",
    "print(message)\n"
   ]
  },
  {
   "cell_type": "code",
   "execution_count": null,
   "metadata": {},
   "outputs": [],
   "source": [
    "even=[]\n",
    "odd=[]\n",
    "list1=[11,22,33,44,55,66,77,88]\n",
    "for num in list1:\n",
    "    if num%2==0:\n",
    "        even.append(num)\n",
    "    else:\n",
    "        odd.append(num)\n",
    "print(\"even\")\n",
    "for ev in even:\n",
    "    print(ev,end=' ')#spacing\n",
    "print(\"\\nodd\")\n",
    "for od in odd:\n",
    "    print(od,end=' ')#spacing"
   ]
  },
  {
   "cell_type": "code",
   "execution_count": null,
   "metadata": {},
   "outputs": [],
   "source": [
    "even=[]\n",
    "odd=[]\n",
    "list1=[11,22,33,44,55,66,77,88]\n",
    "for num in list1:\n",
    "    if num%2==0:\n",
    "        even.append(num)\n",
    "    else:\n",
    "        odd.append(num)\n",
    "print(\"even\")\n",
    "for ev in even:\n",
    "    print(ev)\n",
    "print(\"\\nodd\")\n",
    "for od in odd:\n",
    "    print(od)"
   ]
  },
  {
   "cell_type": "code",
   "execution_count": 2,
   "metadata": {},
   "outputs": [
    {
     "name": "stdout",
     "output_type": "stream",
     "text": [
      "sorry\n",
      "sorry\n",
      "sorry\n",
      "sorry\n",
      "sorry\n",
      "sorry\n",
      "closedfriends\n"
     ]
    }
   ],
   "source": [
    "friends = [\"ali\",\"abid\",\"shahzaib\",\"ahmed\",\"fatima\",\"sehar\",\"bunty\"]\n",
    "family = [\"moto\",\"golo\",\"bablo\",\"bubli\",\"tadda\",\"bunty\"]\n",
    "closedfriends=[]\n",
    "\n",
    "for members in friends:\n",
    "    if members in family:\n",
    "        closedfriends.append(members)\n",
    "        print(\"closedfriends\")\n",
    "    else:\n",
    "        print(\"sorry\")\n",
    "        \n",
    "        \n",
    "    \n",
    "   \n",
    "    \n",
    "    \n",
    "    \n"
   ]
  },
  {
   "cell_type": "markdown",
   "metadata": {},
   "source": [
    "# WORKING WITH LIST USING FOR LOOP"
   ]
  },
  {
   "cell_type": "code",
   "execution_count": 7,
   "metadata": {},
   "outputs": [
    {
     "name": "stdout",
     "output_type": "stream",
     "text": [
      "SHAHZAIB\n",
      "AHMED\n",
      "FATIMA\n",
      "SEHAR\n"
     ]
    }
   ],
   "source": [
    "name = [\"ali\",\"abid\",\"shahzaib\",\"ahmed\",\"fatima\",\"sehar\"]\n",
    "for name in name[2:]:\n",
    "    print(name.upper())"
   ]
  },
  {
   "cell_type": "code",
   "execution_count": 14,
   "metadata": {},
   "outputs": [
    {
     "name": "stdout",
     "output_type": "stream",
     "text": [
      "ahmed\n",
      "fatima\n",
      "sehar\n"
     ]
    }
   ],
   "source": [
    "name = [\"ali\",\"abid\",\"shahzaib\",\"ahmed\",\"fatima\",\"sehar\"]\n",
    "print(name[3])\n",
    "print(name[4])\n",
    "print(name[5])"
   ]
  },
  {
   "cell_type": "code",
   "execution_count": 9,
   "metadata": {},
   "outputs": [
    {
     "ename": "SyntaxError",
     "evalue": "invalid syntax (<ipython-input-9-eba4afd72929>, line 2)",
     "output_type": "error",
     "traceback": [
      "\u001b[1;36m  File \u001b[1;32m\"<ipython-input-9-eba4afd72929>\"\u001b[1;36m, line \u001b[1;32m2\u001b[0m\n\u001b[1;33m    friends pizza = pizza[:]\u001b[0m\n\u001b[1;37m                ^\u001b[0m\n\u001b[1;31mSyntaxError\u001b[0m\u001b[1;31m:\u001b[0m invalid syntax\n"
     ]
    }
   ],
   "source": [
    "pizza = [\"tikka\",\"fagita\",\"creemitikka\"]\n",
    "friends pizza = pizza[:]\n",
    "\n",
    "\n",
    "\n",
    "\n",
    "\n"
   ]
  },
  {
   "cell_type": "code",
   "execution_count": 50,
   "metadata": {},
   "outputs": [
    {
     "name": "stdout",
     "output_type": "stream",
     "text": [
      "enter new user name, ['ali', 'abid', 'ahmed', 'fatima', 'shahzaib']\n",
      "user name is available, ['ali', 'abid', 'ahmed', 'fatima', 'shahzaib']\n"
     ]
    }
   ],
   "source": [
    "currentusername = ['behroze','abdullah','shahzaib','shariq']\n",
    "newusername = ['ali','abid','ahmed','fatima','shahzaib']\n",
    "for name in newusername:\n",
    "    if name in currentusername:\n",
    "      print('enter new user name,',newusername)\n",
    "          \n",
    "else:\n",
    "    print('user name is available,',newusername)\n",
    "     \n",
    "       \n",
    "    \n",
    "\n"
   ]
  },
  {
   "cell_type": "markdown",
   "metadata": {},
   "source": [
    "# string formating\n"
   ]
  },
  {
   "cell_type": "code",
   "execution_count": 51,
   "metadata": {},
   "outputs": [
    {
     "name": "stdout",
     "output_type": "stream",
     "text": [
      "my friend name is fahad and his father name is ali\n"
     ]
    }
   ],
   "source": [
    "name = \"fahad\"\n",
    "f_name = \"ali\"\n",
    "print(\"my friend name is \"+ name+\" and his father name is \"+ f_name)"
   ]
  },
  {
   "cell_type": "code",
   "execution_count": 52,
   "metadata": {},
   "outputs": [
    {
     "name": "stdout",
     "output_type": "stream",
     "text": [
      "my friend name is fahad and his father name is ali\n"
     ]
    }
   ],
   "source": [
    "print(\"my friend name is {} and his father name is {}\".format(name,f_name))"
   ]
  },
  {
   "cell_type": "code",
   "execution_count": 55,
   "metadata": {},
   "outputs": [
    {
     "name": "stdout",
     "output_type": "stream",
     "text": [
      "my friend name is fahad and his father name is ali\n"
     ]
    }
   ],
   "source": [
    "print(F\"my friend name is {name} and his father name is {f_name}\")"
   ]
  },
  {
   "cell_type": "code",
   "execution_count": 58,
   "metadata": {},
   "outputs": [
    {
     "name": "stdout",
     "output_type": "stream",
     "text": [
      "my name is asad and my number is 45 num\n"
     ]
    }
   ],
   "source": [
    "num=45\n",
    "name=\"asad\"\n",
    "\n",
    "print(f\"my name is {name} and my number is {num} num\")\n"
   ]
  },
  {
   "cell_type": "code",
   "execution_count": 59,
   "metadata": {},
   "outputs": [],
   "source": [
    "person = \"Nasir\""
   ]
  },
  {
   "cell_type": "code",
   "execution_count": 60,
   "metadata": {},
   "outputs": [
    {
     "name": "stdout",
     "output_type": "stream",
     "text": [
      "my name is Nasir\n"
     ]
    }
   ],
   "source": [
    "print('my name is {}'.format(person))"
   ]
  },
  {
   "cell_type": "markdown",
   "metadata": {},
   "source": [
    "# tupple"
   ]
  },
  {
   "cell_type": "markdown",
   "metadata": {},
   "source": [
    "A tuple is a sequence of immutable Python objects. Tuples are sequences, just like lists. The differences between tuples and lists are, the tuples cannot be changed unlike lists and tuples use parentheses, whereas lists use square brackets. tup1 = (50,);"
   ]
  },
  {
   "cell_type": "code",
   "execution_count": 1,
   "metadata": {},
   "outputs": [
    {
     "name": "stdout",
     "output_type": "stream",
     "text": [
      "Zohaib\n"
     ]
    }
   ],
   "source": [
    "friends = ('Hamza' , 'Umer' , 'Zohaib' , 'Azhar' , 'Fahad')\n",
    "print(friends[2])"
   ]
  },
  {
   "cell_type": "code",
   "execution_count": 2,
   "metadata": {},
   "outputs": [
    {
     "name": "stdout",
     "output_type": "stream",
     "text": [
      "I belong to LOS ANGELES.\n"
     ]
    }
   ],
   "source": [
    "cities = (\"Atlanta\", \"Baltimore\", \"Chicago\",\"Denver\", \"Los Angeles\", \"Seattle\")\n",
    "mycities = cities[4]\n",
    "print(\"I belong to \" + mycities.upper() + '.')"
   ]
  },
  {
   "cell_type": "code",
   "execution_count": 4,
   "metadata": {},
   "outputs": [
    {
     "name": "stdout",
     "output_type": "stream",
     "text": [
      "tup1[0]:  physics\n",
      "tup2[1:5]:  (2, 3, 4, 5)\n"
     ]
    }
   ],
   "source": [
    "tup1 = ('physics', 'chemistry', 1997, 2000)\n",
    "tup2 = (1, 2, 3, 4, 5, 6, 7 )\n",
    "print(\"tup1[0]: \",tup1[0])\n",
    "print(\"tup2[1:5]: \",tup2[1:5])"
   ]
  },
  {
   "cell_type": "code",
   "execution_count": 5,
   "metadata": {},
   "outputs": [
    {
     "name": "stdout",
     "output_type": "stream",
     "text": [
      "(12, 34.56, 'abc', 'xyz')\n"
     ]
    }
   ],
   "source": [
    "tup1 = (12, 34.56)\n",
    "tup2 = ('abc', 'xyz')\n",
    "\n",
    "tup3 = tup1 + tup2\n",
    "print(tup3)"
   ]
  },
  {
   "cell_type": "code",
   "execution_count": 6,
   "metadata": {},
   "outputs": [
    {
     "name": "stdout",
     "output_type": "stream",
     "text": [
      "('physics', 'chemistry', 1997, 2000)\n",
      "After deleting tup : \n"
     ]
    },
    {
     "ename": "NameError",
     "evalue": "name 'tup' is not defined",
     "output_type": "error",
     "traceback": [
      "\u001b[1;31m---------------------------------------------------------------------------\u001b[0m",
      "\u001b[1;31mNameError\u001b[0m                                 Traceback (most recent call last)",
      "\u001b[1;32m<ipython-input-6-8ba2be7073ff>\u001b[0m in \u001b[0;36m<module>\u001b[1;34m\u001b[0m\n\u001b[0;32m      3\u001b[0m \u001b[1;32mdel\u001b[0m \u001b[0mtup\u001b[0m\u001b[1;33m\u001b[0m\u001b[1;33m\u001b[0m\u001b[0m\n\u001b[0;32m      4\u001b[0m \u001b[0mprint\u001b[0m \u001b[1;33m(\u001b[0m\u001b[1;34m\"After deleting tup : \"\u001b[0m\u001b[1;33m)\u001b[0m\u001b[1;33m\u001b[0m\u001b[1;33m\u001b[0m\u001b[0m\n\u001b[1;32m----> 5\u001b[1;33m \u001b[0mprint\u001b[0m \u001b[1;33m(\u001b[0m\u001b[0mtup\u001b[0m\u001b[1;33m)\u001b[0m\u001b[1;33m\u001b[0m\u001b[1;33m\u001b[0m\u001b[0m\n\u001b[0m",
      "\u001b[1;31mNameError\u001b[0m: name 'tup' is not defined"
     ]
    }
   ],
   "source": [
    "tup = ('physics', 'chemistry', 1997, 2000)\n",
    "print (tup)\n",
    "del tup\n",
    "print (\"After deleting tup : \")\n",
    "print (tup)"
   ]
  },
  {
   "cell_type": "code",
   "execution_count": 7,
   "metadata": {},
   "outputs": [
    {
     "ename": "TypeError",
     "evalue": "'tuple' object does not support item assignment",
     "output_type": "error",
     "traceback": [
      "\u001b[1;31m---------------------------------------------------------------------------\u001b[0m",
      "\u001b[1;31mTypeError\u001b[0m                                 Traceback (most recent call last)",
      "\u001b[1;32m<ipython-input-7-8b5373f135ab>\u001b[0m in \u001b[0;36m<module>\u001b[1;34m\u001b[0m\n\u001b[0;32m      1\u001b[0m \u001b[0mthistuple\u001b[0m \u001b[1;33m=\u001b[0m \u001b[1;33m(\u001b[0m\u001b[1;34m\"apple\"\u001b[0m\u001b[1;33m,\u001b[0m \u001b[1;34m\"banana\"\u001b[0m\u001b[1;33m,\u001b[0m \u001b[1;34m\"cherry\"\u001b[0m\u001b[1;33m)\u001b[0m\u001b[1;33m\u001b[0m\u001b[1;33m\u001b[0m\u001b[0m\n\u001b[1;32m----> 2\u001b[1;33m \u001b[0mthistuple\u001b[0m\u001b[1;33m[\u001b[0m\u001b[1;36m1\u001b[0m\u001b[1;33m]\u001b[0m \u001b[1;33m=\u001b[0m \u001b[1;34m\"blackcurrant\"\u001b[0m\u001b[1;33m\u001b[0m\u001b[1;33m\u001b[0m\u001b[0m\n\u001b[0m\u001b[0;32m      3\u001b[0m \u001b[1;31m# The values will remain the same:\u001b[0m\u001b[1;33m\u001b[0m\u001b[1;33m\u001b[0m\u001b[1;33m\u001b[0m\u001b[0m\n\u001b[0;32m      4\u001b[0m \u001b[0mprint\u001b[0m\u001b[1;33m(\u001b[0m\u001b[0mthistuple\u001b[0m\u001b[1;33m)\u001b[0m\u001b[1;33m\u001b[0m\u001b[1;33m\u001b[0m\u001b[0m\n",
      "\u001b[1;31mTypeError\u001b[0m: 'tuple' object does not support item assignment"
     ]
    }
   ],
   "source": [
    "thistuple = (\"apple\", \"banana\", \"cherry\")\n",
    "thistuple[1] = \"blackcurrant\"\n",
    "# The values will remain the same:\n",
    "print(thistuple)"
   ]
  },
  {
   "cell_type": "code",
   "execution_count": 8,
   "metadata": {},
   "outputs": [
    {
     "name": "stdout",
     "output_type": "stream",
     "text": [
      "apple\n",
      "banana\n",
      "cherry\n"
     ]
    }
   ],
   "source": [
    "thistuple = (\"apple\", \"banana\", \"cherry\")\n",
    "for x in thistuple:\n",
    "    print(x)"
   ]
  },
  {
   "cell_type": "code",
   "execution_count": 9,
   "metadata": {},
   "outputs": [
    {
     "name": "stdout",
     "output_type": "stream",
     "text": [
      "Yes, 'apple' is in the fruits tuple\n"
     ]
    }
   ],
   "source": [
    "thistuple = (\"apple\", \"banana\", \"cherry\")\n",
    "if \"apple\" in thistuple:\n",
    "    print(\"Yes, 'apple' is in the fruits tuple\")"
   ]
  },
  {
   "cell_type": "code",
   "execution_count": 10,
   "metadata": {},
   "outputs": [
    {
     "name": "stdout",
     "output_type": "stream",
     "text": [
      "No Strawberry in your tuple\n"
     ]
    }
   ],
   "source": [
    "thistuple = (\"apple\", \"banana\", \"cherry\")\n",
    "if \"strawberry\" in thistuple:\n",
    "    print(\"Yes, 'apple' is in the fruits tuple\")\n",
    "else:\n",
    "    print(\"No Strawberry in your tuple\")"
   ]
  },
  {
   "cell_type": "code",
   "execution_count": 11,
   "metadata": {},
   "outputs": [
    {
     "name": "stdout",
     "output_type": "stream",
     "text": [
      "3\n"
     ]
    }
   ],
   "source": [
    "thistuple = (\"apple\", \"banana\", \"cherry\")\n",
    "print(len(thistuple))"
   ]
  },
  {
   "cell_type": "code",
   "execution_count": 12,
   "metadata": {},
   "outputs": [
    {
     "name": "stdout",
     "output_type": "stream",
     "text": [
      "('a', 'b', 'c', 'd')\n",
      "<class 'tuple'>\n"
     ]
    }
   ],
   "source": [
    "tup3 = \"a\",\"b\",\"c\",\"d\"\n",
    "print(tup3)\n",
    "print(type(tup3))"
   ]
  },
  {
   "cell_type": "markdown",
   "metadata": {},
   "source": [
    "# Dictionaries"
   ]
  },
  {
   "cell_type": "markdown",
   "metadata": {},
   "source": [
    "a = {'key':'value'}\n",
    "there is not index in dict"
   ]
  },
  {
   "cell_type": "code",
   "execution_count": 13,
   "metadata": {},
   "outputs": [
    {
     "name": "stdout",
     "output_type": "stream",
     "text": [
      "green\n",
      "5\n"
     ]
    }
   ],
   "source": [
    "alien_0 = {'color':'green','points':5}\n",
    "print(alien_0['color'])\n",
    "print(alien_0['points'])"
   ]
  },
  {
   "cell_type": "code",
   "execution_count": 14,
   "metadata": {},
   "outputs": [
    {
     "name": "stdout",
     "output_type": "stream",
     "text": [
      "you just earned 5 points!\n"
     ]
    }
   ],
   "source": [
    "alien_0 = {'color':'green','points':5}\n",
    "new_points = alien_0['points']\n",
    "print(\"you just earned \" + str(new_points)+ \" points!\")"
   ]
  },
  {
   "cell_type": "code",
   "execution_count": 15,
   "metadata": {},
   "outputs": [
    {
     "name": "stdout",
     "output_type": "stream",
     "text": [
      "{'color': 'green', 'points': 5}\n",
      "{'color': 'green', 'points': 5, 'x_position': 0, 'y_position': 25}\n"
     ]
    }
   ],
   "source": [
    "#adding new key , value in dict\n",
    "alien_0 = {'color': 'green', 'points': 5}\n",
    "print(alien_0)\n",
    "alien_0['x_position'] = 0\n",
    "alien_0['y_position'] = 25\n",
    "print(alien_0)"
   ]
  },
  {
   "cell_type": "code",
   "execution_count": 23,
   "metadata": {},
   "outputs": [
    {
     "ename": "TypeError",
     "evalue": "string indices must be integers",
     "output_type": "error",
     "traceback": [
      "\u001b[1;31m---------------------------------------------------------------------------\u001b[0m",
      "\u001b[1;31mTypeError\u001b[0m                                 Traceback (most recent call last)",
      "\u001b[1;32m<ipython-input-23-e9280f11485a>\u001b[0m in \u001b[0;36m<module>\u001b[1;34m\u001b[0m\n\u001b[0;32m      5\u001b[0m \u001b[0mfoods\u001b[0m\u001b[1;33m[\u001b[0m\u001b[1;34m'bbq'\u001b[0m\u001b[1;33m]\u001b[0m \u001b[1;33m=\u001b[0m \u001b[1;34m'malai boti'\u001b[0m\u001b[1;33m\u001b[0m\u001b[1;33m\u001b[0m\u001b[0m\n\u001b[0;32m      6\u001b[0m \u001b[0mfoods\u001b[0m\u001b[1;33m[\u001b[0m\u001b[1;34m'shake'\u001b[0m\u001b[1;33m]\u001b[0m \u001b[1;33m=\u001b[0m \u001b[1;34m'mango'\u001b[0m\u001b[1;33m\u001b[0m\u001b[1;33m\u001b[0m\u001b[0m\n\u001b[1;32m----> 7\u001b[1;33m \u001b[0mfoods\u001b[0m\u001b[1;33m[\u001b[0m\u001b[1;34m'ice creem'\u001b[0m\u001b[1;33m]\u001b[0m \u001b[1;33m=\u001b[0m \u001b[1;33m{\u001b[0m\u001b[1;34m'yummy'\u001b[0m\u001b[1;33m:\u001b[0m\u001b[1;34m'flavour'\u001b[0m\u001b[1;33m[\u001b[0m\u001b[1;34m'chocolate'\u001b[0m\u001b[1;33m,\u001b[0m\u001b[1;34m'mango'\u001b[0m\u001b[1;33m,\u001b[0m\u001b[1;34m'orange'\u001b[0m\u001b[1;33m]\u001b[0m\u001b[1;33m}\u001b[0m\u001b[1;33m\u001b[0m\u001b[1;33m\u001b[0m\u001b[0m\n\u001b[0m\u001b[0;32m      8\u001b[0m \u001b[0mfoods\u001b[0m\u001b[1;33m[\u001b[0m\u001b[1;34m'ice creem'\u001b[0m\u001b[1;33m]\u001b[0m\u001b[1;33m[\u001b[0m\u001b[0myummy\u001b[0m\u001b[1;33m]\u001b[0m\u001b[1;33m[\u001b[0m\u001b[1;36m2\u001b[0m\u001b[1;33m]\u001b[0m\u001b[1;33m\u001b[0m\u001b[1;33m\u001b[0m\u001b[0m\n\u001b[0;32m      9\u001b[0m \u001b[0mprint\u001b[0m\u001b[1;33m(\u001b[0m\u001b[0mfoods\u001b[0m\u001b[1;33m)\u001b[0m\u001b[1;33m\u001b[0m\u001b[1;33m\u001b[0m\u001b[0m\n",
      "\u001b[1;31mTypeError\u001b[0m: string indices must be integers"
     ]
    }
   ],
   "source": [
    "foods = {}\n",
    "foods['karahi'] = ['favourite','pishawari','balochi']\n",
    "foods['sheep'] = 'boti kabab'\n",
    "foods['biryani'] = 'yummy'\n",
    "foods['bbq'] = 'malai boti'\n",
    "foods['shake'] = 'mango'\n",
    "foods['ice creem'] = {'yummy':'flavour','chocolate':'mango','orange':}\n",
    "foods['ice creem'][yummy][2]\n",
    "print(foods)\n",
    "foods['karahi'][1]"
   ]
  },
  {
   "cell_type": "code",
   "execution_count": 25,
   "metadata": {},
   "outputs": [
    {
     "name": "stdout",
     "output_type": "stream",
     "text": [
      "Shane Robert Watson is a Australian International Cricketer.\n",
      "\n",
      "We all know that Imam ul Haq is a PARCHI.\n"
     ]
    }
   ],
   "source": [
    "players = {'Watson':'Australian International Cricketer'}\n",
    "print(\"Shane Robert Watson is a \" + players['Watson'] + '.')\n",
    "\n",
    "players = {'Imam ul Haq': 'parchi'}\n",
    "print(\"\\nWe all know that Imam ul Haq is a \" + players['Imam ul Haq'].upper() + \".\")"
   ]
  },
  {
   "cell_type": "code",
   "execution_count": 27,
   "metadata": {},
   "outputs": [
    {
     "name": "stdout",
     "output_type": "stream",
     "text": [
      "Karachi is: kings\n",
      "PSL4 zalmi : won2\n"
     ]
    }
   ],
   "source": [
    "psl = {'karachi': 'kings', 'multan':'sultan', 'zalmi': 'won'}\n",
    "print(\"Karachi is: \" + str(psl['karachi']))\n",
    "\n",
    "if psl['zalmi'] == 'loser':\n",
    "    x_increment = 1\n",
    "elif psl['zalmi'] == 'won':\n",
    "    x_increment = 2\n",
    "else:\n",
    "    x_increment = 3\n",
    "    \n",
    "psl['zalmi'] = psl['zalmi'] + str(x_increment)\n",
    "print(\"PSL4 zalmi : \" + str(psl['zalmi']))"
   ]
  },
  {
   "cell_type": "code",
   "execution_count": null,
   "metadata": {},
   "outputs": [],
   "source": []
  },
  {
   "cell_type": "code",
   "execution_count": null,
   "metadata": {},
   "outputs": [],
   "source": []
  },
  {
   "cell_type": "code",
   "execution_count": null,
   "metadata": {},
   "outputs": [],
   "source": []
  },
  {
   "cell_type": "code",
   "execution_count": null,
   "metadata": {},
   "outputs": [],
   "source": []
  },
  {
   "cell_type": "code",
   "execution_count": null,
   "metadata": {},
   "outputs": [],
   "source": []
  },
  {
   "cell_type": "markdown",
   "metadata": {},
   "source": [
    "# Removing Key-Value Pairs"
   ]
  },
  {
   "cell_type": "markdown",
   "metadata": {},
   "source": [
    "# A Dictionary of Similar Objects\n"
   ]
  },
  {
   "cell_type": "code",
   "execution_count": 1,
   "metadata": {},
   "outputs": [
    {
     "name": "stdout",
     "output_type": "stream",
     "text": [
      "a 5\n",
      "b 15\n",
      "c 25\n"
     ]
    }
   ],
   "source": [
    "dict1 = {'a':5,'b':15,'c':25}\n",
    "for key1 , value1 in dict1.items():\n",
    "    print(key1,value1)"
   ]
  },
  {
   "cell_type": "code",
   "execution_count": 3,
   "metadata": {},
   "outputs": [
    {
     "name": "stdout",
     "output_type": "stream",
     "text": [
      "c 25\n",
      "c 25\n",
      "c 25\n"
     ]
    }
   ],
   "source": [
    "for key3 in dict1.keys():\n",
    "    print(key1,value1)"
   ]
  },
  {
   "cell_type": "code",
   "execution_count": 6,
   "metadata": {},
   "outputs": [
    {
     "name": "stdout",
     "output_type": "stream",
     "text": [
      "5\n",
      "15\n",
      "25\n"
     ]
    }
   ],
   "source": [
    "for value3 in dict1.values():\n",
    "    print(value3)"
   ]
  },
  {
   "cell_type": "code",
   "execution_count": 7,
   "metadata": {},
   "outputs": [
    {
     "name": "stdout",
     "output_type": "stream",
     "text": [
      "My name is Habib.\n",
      "My last name is Khan.\n",
      "My city is Karachi.\n",
      "My age is Eighteen.\n"
     ]
    }
   ],
   "source": [
    "dict2 = {'firstname':'habib','lastname':'khan','city':'karachi','age':'eighteen'}\n",
    "\n",
    "print(\"My name is \" + dict2['firstname'].title() + '.')\n",
    "print(\"My last name is \" + dict2['lastname'].title() + '.')\n",
    "print(\"My city is \" + dict2['city'].title() + '.')\n",
    "print(\"My age is \" + dict2['age'].title() + '.')"
   ]
  },
  {
   "cell_type": "code",
   "execution_count": 8,
   "metadata": {},
   "outputs": [
    {
     "name": "stdout",
     "output_type": "stream",
     "text": [
      "My Firstname Is Habib\n",
      "My Lastname Is Khan\n",
      "My City Is Karachi\n",
      "My Age Is Eighteen\n"
     ]
    }
   ],
   "source": [
    "#by format\n",
    "dict2 = {'firstname':'habib','lastname':'khan','city':'karachi','age':'eighteen'}\n",
    "\n",
    "print(\"My firstname is {}\".format(dict2['firstname']).title())\n",
    "print(\"My lastname is {}\".format(dict2['lastname']).title())\n",
    "print(\"My city is {}\".format(dict2['city']).title())\n",
    "print(\"My age is {}\".format(dict2['age']).title())"
   ]
  },
  {
   "cell_type": "markdown",
   "metadata": {},
   "source": [
    "# Looping Through a Dictionary"
   ]
  },
  {
   "cell_type": "code",
   "execution_count": 9,
   "metadata": {},
   "outputs": [
    {
     "name": "stdout",
     "output_type": "stream",
     "text": [
      "\n",
      "Key: Teacher\n",
      "Value: Sir Nasir\n",
      "\n",
      "Key: Teacher_Assistant\n",
      "Value: Shahzad Ahsan\n",
      "\n",
      "Key: Student\n",
      "Value: Anas\n"
     ]
    }
   ],
   "source": [
    "\n",
    "user_0 = {'Teacher': 'Sir Nasir','Teacher_Assistant': 'Shahzad Ahsan','Student': 'Anas'}\n",
    "\n",
    "for key, value in user_0.items():\n",
    "    \n",
    "    \n",
    "    print(\"\\nKey: \" + key)\n",
    "    print(\"Value: \" + value)"
   ]
  },
  {
   "cell_type": "code",
   "execution_count": 10,
   "metadata": {},
   "outputs": [
    {
     "name": "stdout",
     "output_type": "stream",
     "text": [
      "My First name is Shahzad and my last name is Ahsan.\n",
      "My First name is Sara Ali and my last name is Khan.\n",
      "My First name is Komal and my last name is Aftab.\n",
      "My First name is Hassan and my last name is Dhedhi.\n"
     ]
    }
   ],
   "source": [
    "names = {'Shahzad':'Ahsan' , 'Sara Ali':'Khan' , 'Komal':'Aftab' , 'Hassan':'Dhedhi'}\n",
    "\n",
    "for first_name , last_name in names.items():\n",
    "    \n",
    "    print('My First name is ' + first_name.title() + ' and my last name is ' + last_name.title() + '.')"
   ]
  },
  {
   "cell_type": "code",
   "execution_count": 16,
   "metadata": {},
   "outputs": [
    {
     "name": "stdout",
     "output_type": "stream",
     "text": [
      "Please write your last name also...\n"
     ]
    }
   ],
   "source": [
    "alien1 = {'name':'last_name' , 'color':'green' , 'height':'5.7' , 'weight':'67'}\n",
    "\n",
    "if 'last_name' not in alien1.keys():\n",
    "    \n",
    "    print(\"Please write your last name also...\")"
   ]
  },
  {
   "cell_type": "markdown",
   "metadata": {},
   "source": [
    "# Looping Through All the Keys in a Dictionary"
   ]
  },
  {
   "cell_type": "code",
   "execution_count": 11,
   "metadata": {},
   "outputs": [
    {
     "name": "stdout",
     "output_type": "stream",
     "text": [
      "SAIF, have a good day.\n",
      "SHEHARYAR, have a good day.\n",
      "ZOHIAB, have a good day.\n",
      "AHMED, have a good day.\n",
      "ALI, have a good day.\n",
      "NAVEED, have a good day.\n",
      "UMER, have a good day.\n"
     ]
    }
   ],
   "source": [
    "\n",
    "name1 = {'Sheharyar':'Zafar' , 'Saif':'Zafar' , 'Zohiab':'owais' , 'umer':'najeeb' ,'ali':'khan' , 'ahmed':'amjad' , \n",
    "        'naveed':'zia'}\n",
    "\n",
    "for new_names in sorted(name1.keys()):\n",
    "    \n",
    "    print(new_names.upper() + ', have a good day.')"
   ]
  },
  {
   "cell_type": "code",
   "execution_count": 12,
   "metadata": {},
   "outputs": [
    {
     "name": "stdout",
     "output_type": "stream",
     "text": [
      "Edward, thank you for taking the poll.\n",
      "Jen, thank you for taking the poll.\n",
      "Phil, thank you for taking the poll.\n",
      "Sarah, thank you for taking the poll.\n"
     ]
    }
   ],
   "source": [
    "\n",
    "favorite_languages = {'jen': 'python','sarah': 'c','edward': 'ruby','phil': 'python'}\n",
    "\n",
    "for name in sorted(favorite_languages.keys()):\n",
    "    print(name.title() + \", thank you for taking the poll.\")"
   ]
  },
  {
   "cell_type": "code",
   "execution_count": 21,
   "metadata": {},
   "outputs": [],
   "source": [
    "list1 = [99,29,88,47,66,47,99,48,44]\n"
   ]
  },
  {
   "cell_type": "code",
   "execution_count": 29,
   "metadata": {},
   "outputs": [],
   "source": [
    "ret = sorted(list1,reverse=True)"
   ]
  },
  {
   "cell_type": "code",
   "execution_count": 30,
   "metadata": {},
   "outputs": [
    {
     "data": {
      "text/plain": [
       "[99, 99, 88, 66, 48, 47, 47, 44, 29]"
      ]
     },
     "execution_count": 30,
     "metadata": {},
     "output_type": "execute_result"
    }
   ],
   "source": [
    "ret"
   ]
  },
  {
   "cell_type": "code",
   "execution_count": 31,
   "metadata": {},
   "outputs": [
    {
     "data": {
      "text/plain": [
       "[99, 29, 88, 47, 66, 47, 99, 48, 44]"
      ]
     },
     "execution_count": 31,
     "metadata": {},
     "output_type": "execute_result"
    }
   ],
   "source": [
    "list1"
   ]
  },
  {
   "cell_type": "code",
   "execution_count": 4,
   "metadata": {},
   "outputs": [
    {
     "ename": "NameError",
     "evalue": "name 'list1' is not defined",
     "output_type": "error",
     "traceback": [
      "\u001b[1;31m---------------------------------------------------------------------------\u001b[0m",
      "\u001b[1;31mNameError\u001b[0m                                 Traceback (most recent call last)",
      "\u001b[1;32m<ipython-input-4-50d9521945a5>\u001b[0m in \u001b[0;36m<module>\u001b[1;34m\u001b[0m\n\u001b[1;32m----> 1\u001b[1;33m \u001b[0mret\u001b[0m\u001b[1;33m=\u001b[0m\u001b[1;33m(\u001b[0m\u001b[0mreversed\u001b[0m\u001b[1;33m(\u001b[0m\u001b[0mlist1\u001b[0m\u001b[1;33m)\u001b[0m\u001b[1;33m)\u001b[0m\u001b[1;33m\u001b[0m\u001b[1;33m\u001b[0m\u001b[0m\n\u001b[0m",
      "\u001b[1;31mNameError\u001b[0m: name 'list1' is not defined"
     ]
    }
   ],
   "source": [
    "ret=(reversed(list1))"
   ]
  },
  {
   "cell_type": "code",
   "execution_count": 9,
   "metadata": {},
   "outputs": [
    {
     "name": "stdout",
     "output_type": "stream",
     "text": [
      "\n",
      " key color\n",
      "value green\n",
      "\n",
      " key points\n",
      "value 5\n",
      "\n",
      " key color\n",
      "value yellow\n",
      "\n",
      " key points\n",
      "value 10\n",
      "\n",
      " key color\n",
      "value red\n",
      "\n",
      " key points\n",
      "value 15\n"
     ]
    }
   ],
   "source": [
    "\n",
    "alien_0 = {'color': 'green', 'points': \"5\"}\n",
    "alien_1 = {'color': 'yellow', 'points': \"10\"}\n",
    "alien_2 = {'color': 'red', 'points': \"15\"}\n",
    "\n",
    "aliens = [alien_0,alien_1,alien_2]\n",
    "\n",
    "\n",
    "for alien in aliens:\n",
    "    for key,value in alien.items():\n",
    "        print(\"\\n key \" + key)\n",
    "        print(\"value \" + value)\n",
    "  "
   ]
  },
  {
   "cell_type": "code",
   "execution_count": 10,
   "metadata": {},
   "outputs": [
    {
     "name": "stdout",
     "output_type": "stream",
     "text": [
      "2*1 = 2\n",
      "2*2 = 4\n",
      "2*3 = 6\n",
      "2*4 = 8\n",
      "2*5 = 10\n",
      "2*6 = 12\n",
      "2*7 = 14\n",
      "2*8 = 16\n",
      "2*9 = 18\n",
      "2*10 = 20\n",
      "3*1 = 3\n",
      "3*2 = 6\n",
      "3*3 = 9\n",
      "3*4 = 12\n",
      "3*5 = 15\n",
      "3*6 = 18\n",
      "3*7 = 21\n",
      "3*8 = 24\n",
      "3*9 = 27\n",
      "3*10 = 30\n",
      "4*1 = 4\n",
      "4*2 = 8\n",
      "4*3 = 12\n",
      "4*4 = 16\n",
      "4*5 = 20\n",
      "4*6 = 24\n",
      "4*7 = 28\n",
      "4*8 = 32\n",
      "4*9 = 36\n",
      "4*10 = 40\n",
      "5*1 = 5\n",
      "5*2 = 10\n",
      "5*3 = 15\n",
      "5*4 = 20\n",
      "5*5 = 25\n",
      "5*6 = 30\n",
      "5*7 = 35\n",
      "5*8 = 40\n",
      "5*9 = 45\n",
      "5*10 = 50\n"
     ]
    }
   ],
   "source": [
    "numbers=[1,2,3,4,5,6,7,8,9,10]\n",
    "for table in [2,3,4,5]:\n",
    "    for num in numbers:\n",
    "        print(f\"{table}*{num} = {table*num}\")"
   ]
  },
  {
   "cell_type": "code",
   "execution_count": null,
   "metadata": {},
   "outputs": [],
   "source": []
  }
 ],
 "metadata": {
  "kernelspec": {
   "display_name": "Python 3",
   "language": "python",
   "name": "python3"
  },
  "language_info": {
   "codemirror_mode": {
    "name": "ipython",
    "version": 3
   },
   "file_extension": ".py",
   "mimetype": "text/x-python",
   "name": "python",
   "nbconvert_exporter": "python",
   "pygments_lexer": "ipython3",
   "version": "3.7.1"
  }
 },
 "nbformat": 4,
 "nbformat_minor": 2
}
