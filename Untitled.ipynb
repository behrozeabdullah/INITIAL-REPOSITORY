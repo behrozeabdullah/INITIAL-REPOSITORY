{
 "cells": [
  {
   "cell_type": "code",
   "execution_count": null,
   "metadata": {},
   "outputs": [],
   "source": [
    "var1=100\n",
    "if var1:\n",
    "    print(\"1-got a true value\")\n",
    "    print (var1)\n",
    "else:\n",
    "    print(\"1-got a false value\")\n",
    "    print (var1)"
   ]
  },
  {
   "cell_type": "code",
   "execution_count": null,
   "metadata": {},
   "outputs": [],
   "source": [
    "name = input(\"enter your name :\").upper()\n",
    "if name == \"SHAHZAD\":\n",
    "    print(\"your name is \"+ name)\n",
    "else:\n",
    "    print(\"no\")"
   ]
  },
  {
   "cell_type": "code",
   "execution_count": null,
   "metadata": {},
   "outputs": [],
   "source": [
    "weight =float(input(\"how many pounds does your suitcase weight\"))\n",
    "if weight > 50:\n",
    "    print(\"there is a $25 charge for luggage\")\n",
    "print (\"thank you for your business\")"
   ]
  },
  {
   "cell_type": "code",
   "execution_count": null,
   "metadata": {},
   "outputs": [],
   "source": [
    "temp =float(input(\"wear a jeans\"))\n",
    "if temp > 15:\n",
    "    print(\"wear jeans\")\n",
    "else:\n",
    "    print(\"shorts\")"
   ]
  },
  {
   "cell_type": "code",
   "execution_count": null,
   "metadata": {},
   "outputs": [],
   "source": [
    "x = float(input(\"enter your marks out of 100 :\"))\n",
    "if x >= 100:\n",
    "    print(\"wrong input\")\n",
    "elif x >= 90:\n",
    "    print(\"grade A*\")\n",
    "elif x >= 80:\n",
    "    print(\"grade A\")\n",
    "elif x >= 70:\n",
    "    print(\"grade B\")\n",
    "elif x >= 60:\n",
    "    print(\"grade C\")\n",
    "elif x >= 50:\n",
    "    print(\"grade D\")\n",
    "print(\"fail\")"
   ]
  },
  {
   "cell_type": "code",
   "execution_count": 8,
   "metadata": {},
   "outputs": [
    {
     "name": "stdout",
     "output_type": "stream",
     "text": [
      "enter your english marks: 40\n",
      "enter your maths marks: 50\n",
      "enter your accounts marks: 60\n",
      "enter your urdu marks: 70\n",
      "enter your programming marks: 80\n",
      "60.0\n"
     ]
    }
   ],
   "source": [
    "english = float(input(\"enter your english marks: \"))\n",
    "maths = float(input(\"enter your maths marks: \"))\n",
    "accounts = float(input(\"enter your accounts marks: \"))\n",
    "urdu = float(input(\"enter your urdu marks: \"))\n",
    "isl = float(input(\"enter your programming marks: \"))\n",
    "\n",
    "total = 500\n",
    "abtainedmarks = english+maths+accounts+urdu+isl\n",
    "percentage=abtainedmarks/total*100\n",
    "print(percentage)"
   ]
  },
  {
   "cell_type": "code",
   "execution_count": 17,
   "metadata": {},
   "outputs": [
    {
     "ename": "SyntaxError",
     "evalue": "invalid syntax (<ipython-input-17-9baf3c85fb65>, line 26)",
     "output_type": "error",
     "traceback": [
      "\u001b[1;36m  File \u001b[1;32m\"<ipython-input-17-9baf3c85fb65>\"\u001b[1;36m, line \u001b[1;32m26\u001b[0m\n\u001b[1;33m    print(\"\\nabtainedmarks\" + str(abained marks) +\".\\npercentage\" + str(percentage) +\".\\ngrade\" + str(grade))\u001b[0m\n\u001b[1;37m                                              ^\u001b[0m\n\u001b[1;31mSyntaxError\u001b[0m\u001b[1;31m:\u001b[0m invalid syntax\n"
     ]
    }
   ],
   "source": [
    "english = float(input(\"enter your english marks: \"))\n",
    "maths = float(input(\"enter your maths marks: \"))\n",
    "accounts = float(input(\"enter your accounts marks: \"))\n",
    "urdu = float(input(\"enter your urdu marks: \"))\n",
    "isl = float(input(\"enter your programming marks: \"))\n",
    "\n",
    "total = 500\n",
    "abtainedmarks = english+maths+accounts+urdu+isl\n",
    "percentage=abtainedmarks/total*100\n",
    "print(percentage)\n",
    "\n",
    "\n",
    "if percentage >= 100:\n",
    "    print(\"wrong input\")\n",
    "elif percentage >= 90:\n",
    "    grade = A\n",
    "elif percentage >= 80:\n",
    "    grade = B\n",
    "elif percentage >= 70:\n",
    "    grade = C\n",
    "elif percentage >= 60:\n",
    "    grade = D\n",
    "else:\n",
    "    print(\"fail\")\n",
    "    \n",
    "print(\"\\nabtainedmarks\" + str(abtned marks) +\".\\npercentage\" + str(percentage) +\".\\ngrade\" + str(grade))"
   ]
  },
  {
   "cell_type": "code",
   "execution_count": null,
   "metadata": {},
   "outputs": [],
   "source": []
  }
 ],
 "metadata": {
  "kernelspec": {
   "display_name": "Python 3",
   "language": "python",
   "name": "python3"
  }
 },
 "nbformat": 4,
 "nbformat_minor": 2
}
