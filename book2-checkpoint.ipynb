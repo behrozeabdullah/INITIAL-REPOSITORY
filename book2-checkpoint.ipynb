{
 "cells": [
  {
   "cell_type": "code",
   "execution_count": null,
   "metadata": {},
   "outputs": [],
   "source": [
    "bicycles = [\"terk\" , 'cannondale' , \"redline\" , \"specialized\"]\n",
    "print(bicycles)"
   ]
  },
  {
   "cell_type": "code",
   "execution_count": null,
   "metadata": {},
   "outputs": [],
   "source": [
    "bicycles = [\"terk\" , 'cannondale' , \"redline\" , \"specialized\"]\n",
    "print(bicycles[0])\n",
    "print(bicycles[3])"
   ]
  },
  {
   "cell_type": "code",
   "execution_count": null,
   "metadata": {},
   "outputs": [],
   "source": [
    "bicycles = [\"terk\" , 'cannondale' , \"redline\" , \"specialized\"]\n",
    "print(bicycles[-1])\n",
    "print(bicycles[-3])"
   ]
  },
  {
   "cell_type": "code",
   "execution_count": null,
   "metadata": {},
   "outputs": [],
   "source": [
    "car = ['honda' , 'suzuki' , 'ferrari' , 'audi' , 'toyota']\n",
    "messaage = \"my favourite car is \" .+ \"car\""
   ]
  },
  {
   "cell_type": "code",
   "execution_count": null,
   "metadata": {},
   "outputs": [],
   "source": [
    "car = ['honda' , 'suzuki' , 'ferrari' , 'audi' , 'toyota']\n",
    "print(car)"
   ]
  },
  {
   "cell_type": "code",
   "execution_count": null,
   "metadata": {},
   "outputs": [],
   "source": [
    "car[2] = \"v8\"\n",
    "print(car)"
   ]
  },
  {
   "cell_type": "code",
   "execution_count": null,
   "metadata": {},
   "outputs": [],
   "source": [
    "car.append('yamaha')\n",
    "print(car)"
   ]
  },
  {
   "cell_type": "code",
   "execution_count": null,
   "metadata": {},
   "outputs": [],
   "source": []
  },
  {
   "cell_type": "code",
   "execution_count": null,
   "metadata": {},
   "outputs": [],
   "source": [
    "motorcycle = []\n",
    "\n",
    "motorcycle.append('honda')\n",
    "motorcycle.append('yamaha')\n",
    "motorcycle.append('suzuki')\n",
    "\n",
    "print(motorcycle)"
   ]
  },
  {
   "cell_type": "code",
   "execution_count": null,
   "metadata": {},
   "outputs": [],
   "source": [
    "motorcycle = ['honda', 'yamaha', 'suzuki']\n",
    "motorcycle.insert(0 , 'harley davidson')\n",
    "print(motorcycle)"
   ]
  },
  {
   "cell_type": "code",
   "execution_count": null,
   "metadata": {},
   "outputs": [],
   "source": [
    "friends = ['zohiab' , 'umer' , 'ali' , 'hamza' , 'jahanzaib' , 'ahmed' , 'ahsan']\n",
    "print(friends.index(\"umer\"))\n",
    "friends.remove('umer')\n",
    "friends"
   ]
  },
  {
   "cell_type": "code",
   "execution_count": null,
   "metadata": {},
   "outputs": [],
   "source": [
    "todo_list = ['task a' , 'task b' , 'task c' , 'task d' , 'task d']\n",
    "completetask = []\n",
    "print(todo_list)\n",
    "\n",
    "\n",
    "\n",
    "\n",
    "\n",
    "\n"
   ]
  },
  {
   "cell_type": "code",
   "execution_count": null,
   "metadata": {},
   "outputs": [],
   "source": [
    "status = input(\"enter your task: \")\n",
    "if status in todo_list:\n",
    "    index=todo_list.pop()\n",
    "    completetask.append(status)\n",
    "    print(completetask)\n",
    "    \n",
    "else:\n",
    "    print('this task is not in list')"
   ]
  },
  {
   "cell_type": "markdown",
   "metadata": {},
   "source": []
  },
  {
   "cell_type": "code",
   "execution_count": null,
   "metadata": {},
   "outputs": [],
   "source": [
    "#slicing\n",
    "#slicing always travel left to right\n",
    "#right to left [reversed slice -]\n",
    "#empty list shown when slicing is not done\n",
    "#start [start : end]\n"
   ]
  },
  {
   "cell_type": "code",
   "execution_count": null,
   "metadata": {},
   "outputs": [],
   "source": [
    "list1 = [9,8,7,6,5,4,3,2,1]\n",
    "#     = [0 1 2 3 4 5 6 7 8]"
   ]
  },
  {
   "cell_type": "code",
   "execution_count": null,
   "metadata": {},
   "outputs": [],
   "source": [
    "list2 = list1[2:5]\n",
    "list2"
   ]
  },
  {
   "cell_type": "code",
   "execution_count": null,
   "metadata": {},
   "outputs": [],
   "source": [
    "list3 =[-9,-8,-7,-6,-5,-4,-3,-2,-1]\n"
   ]
  },
  {
   "cell_type": "code",
   "execution_count": null,
   "metadata": {},
   "outputs": [],
   "source": [
    "list4 = list3[-2:-5]\n",
    "list4"
   ]
  },
  {
   "cell_type": "code",
   "execution_count": null,
   "metadata": {},
   "outputs": [],
   "source": [
    "list4 = list3[-5:-2]\n",
    "list4"
   ]
  },
  {
   "cell_type": "code",
   "execution_count": null,
   "metadata": {},
   "outputs": [],
   "source": [
    "friends = ['zohiab' , 'umer' , 'ali' , 'hamza' , 'jahanzaib' , 'ahmed' , 'ahsan']\n",
    "friends.sort()\n",
    "print(friends)"
   ]
  },
  {
   "cell_type": "code",
   "execution_count": null,
   "metadata": {},
   "outputs": [],
   "source": [
    "friends = ['zohiab' , 'umer' , 'ali' , 'hamza' , 'jahanzaib' , 'ahmed' , 'ahsan']\n",
    "friends.sort(reverse=True)\n",
    "print(friends)\n",
    "#inplace change\n"
   ]
  },
  {
   "cell_type": "code",
   "execution_count": null,
   "metadata": {},
   "outputs": [],
   "source": [
    "car = ['honda' , 'suzuki' , 'ferrari' , 'audi' , 'toyota']\n",
    "print(car)\n",
    "car.reverse()\n",
    "print(car)"
   ]
  },
  {
   "cell_type": "code",
   "execution_count": null,
   "metadata": {},
   "outputs": [],
   "source": [
    "list1 = ['zohiab' , 'umer' , 'ali' , 'hamza']\n",
    "print(list1[0])\n",
    "print(\"you are invited by me at dinner\")\n",
    "\n",
    "\n",
    "\n"
   ]
  },
  {
   "cell_type": "code",
   "execution_count": null,
   "metadata": {},
   "outputs": [],
   "source": [
    "list1 = ['zohiab' , 'umer' , 'ali' , 'hamza']\n",
    "list1.insert( 0, \"taha\")\n",
    "print(list1)\n"
   ]
  },
  {
   "cell_type": "code",
   "execution_count": null,
   "metadata": {},
   "outputs": [],
   "source": [
    "list1 = ['zohiab' , 'umer' , 'ali' , 'hamza']\n",
    "list1.insert( 2, \"sara\")\n",
    "print(list1)"
   ]
  },
  {
   "cell_type": "code",
   "execution_count": null,
   "metadata": {},
   "outputs": [],
   "source": [
    "list1 = ['zohiab', 'umer', 'sara', 'ali', 'hamza']\n",
    "list1.append(\"khan\")\n",
    "print(list1)"
   ]
  },
  {
   "cell_type": "code",
   "execution_count": null,
   "metadata": {},
   "outputs": [],
   "source": [
    "list1 = ['zohiab', 'umer', 'sara', 'ali', 'hamza', 'khan']\n",
    "print(\"you are invited by me \" + (list1[0]+ \".\" ))\n",
    "print(\"you are invited by me \" + (list1[1]+ \".\" ))\n",
    "print(\"you are invited by me \" + (list1[2]+ \".\" ))\n",
    "print(\"you are invited by me \" + (list1[3]+ \".\" ))\n",
    "print(\"you are invited by me \" + (list1[4]+ \".\" ))\n",
    "print(\"you are invited by me \" + (list1[5]+ \".\" ))"
   ]
  },
  {
   "cell_type": "code",
   "execution_count": null,
   "metadata": {},
   "outputs": [],
   "source": [
    "list1 = [1,2,3,4,5,6,7,8,9]\n",
    "list2 = list1.copy()"
   ]
  },
  {
   "cell_type": "code",
   "execution_count": null,
   "metadata": {},
   "outputs": [],
   "source": [
    "list1.append(100)\n",
    "print(list1)\n",
    "print(list2)"
   ]
  },
  {
   "cell_type": "code",
   "execution_count": null,
   "metadata": {},
   "outputs": [],
   "source": [
    "s= list2[:]"
   ]
  },
  {
   "cell_type": "code",
   "execution_count": null,
   "metadata": {},
   "outputs": [],
   "source": [
    "s.clear()"
   ]
  },
  {
   "cell_type": "code",
   "execution_count": null,
   "metadata": {},
   "outputs": [],
   "source": [
    "s"
   ]
  },
  {
   "cell_type": "code",
   "execution_count": null,
   "metadata": {},
   "outputs": [],
   "source": [
    "list1 = [1,2,3,4,5,6,7,8,9]\n",
    "list1.count(8)"
   ]
  },
  {
   "cell_type": "code",
   "execution_count": null,
   "metadata": {},
   "outputs": [],
   "source": [
    "del list1[2]"
   ]
  },
  {
   "cell_type": "code",
   "execution_count": null,
   "metadata": {},
   "outputs": [],
   "source": [
    "list1\n",
    "#delete index\n",
    "#remove value"
   ]
  },
  {
   "cell_type": "code",
   "execution_count": null,
   "metadata": {},
   "outputs": [],
   "source": [
    "list1 = [1,2,3,4,5,6,7,8,9]"
   ]
  },
  {
   "cell_type": "code",
   "execution_count": null,
   "metadata": {},
   "outputs": [],
   "source": [
    "list1.remove(9)"
   ]
  },
  {
   "cell_type": "code",
   "execution_count": null,
   "metadata": {},
   "outputs": [],
   "source": [
    "print(list1)"
   ]
  },
  {
   "cell_type": "code",
   "execution_count": null,
   "metadata": {},
   "outputs": [],
   "source": [
    "poppedV=list1.pop(2)"
   ]
  },
  {
   "cell_type": "code",
   "execution_count": null,
   "metadata": {},
   "outputs": [],
   "source": [
    "poppedV"
   ]
  },
  {
   "cell_type": "code",
   "execution_count": null,
   "metadata": {},
   "outputs": [],
   "source": [
    "list1.extend(\"9131313\")\n",
    "print(list1)"
   ]
  },
  {
   "cell_type": "code",
   "execution_count": null,
   "metadata": {},
   "outputs": [],
   "source": [
    "a = [1, 2, 4, 5, 6, 7, 8]\n",
    "sum(a)"
   ]
  },
  {
   "cell_type": "code",
   "execution_count": null,
   "metadata": {},
   "outputs": [],
   "source": [
    "max(a)"
   ]
  },
  {
   "cell_type": "code",
   "execution_count": null,
   "metadata": {},
   "outputs": [],
   "source": [
    "min(a)\n"
   ]
  },
  {
   "cell_type": "code",
   "execution_count": null,
   "metadata": {},
   "outputs": [],
   "source": [
    "listinlist = [list1 , 5 , [1,2,3,5,[5,7,8,9]]]"
   ]
  },
  {
   "cell_type": "code",
   "execution_count": null,
   "metadata": {},
   "outputs": [],
   "source": [
    "listinlist"
   ]
  },
  {
   "cell_type": "code",
   "execution_count": null,
   "metadata": {},
   "outputs": [],
   "source": [
    "listinlist[1][2][2]"
   ]
  },
  {
   "cell_type": "markdown",
   "metadata": {},
   "source": [
    "# looping/loops for loops"
   ]
  },
  {
   "cell_type": "code",
   "execution_count": null,
   "metadata": {},
   "outputs": [],
   "source": [
    "for a in range(10):\n",
    "    print(\"pakistan\")"
   ]
  },
  {
   "cell_type": "code",
   "execution_count": null,
   "metadata": {},
   "outputs": [],
   "source": [
    "for a in range(1,10,2):\n",
    "    print(a,\"pakistan\")\n",
    "#stepping by 2\n",
    "#odd"
   ]
  },
  {
   "cell_type": "code",
   "execution_count": null,
   "metadata": {},
   "outputs": [],
   "source": [
    "for a in range(5):\n",
    "    print(a,\"behroze\")"
   ]
  },
  {
   "cell_type": "code",
   "execution_count": null,
   "metadata": {},
   "outputs": [],
   "source": [
    "for a in range(0,10,2):\n",
    "    print(a,\"pakistan\")\n",
    "#even"
   ]
  },
  {
   "cell_type": "markdown",
   "metadata": {},
   "source": [
    "# HOW TO ACCESS MEMBERS OF LIST USING A FOR LOOP"
   ]
  },
  {
   "cell_type": "code",
   "execution_count": null,
   "metadata": {},
   "outputs": [],
   "source": [
    "list1 = [9,8,7,6,5,4,3,True,2,1]\n",
    "list1"
   ]
  },
  {
   "cell_type": "code",
   "execution_count": null,
   "metadata": {},
   "outputs": [],
   "source": [
    "for num in list1:\n",
    "    print(num,type(num))"
   ]
  },
  {
   "cell_type": "code",
   "execution_count": null,
   "metadata": {},
   "outputs": [],
   "source": [
    "for num in list1:\n",
    "    print(num)"
   ]
  },
  {
   "cell_type": "code",
   "execution_count": null,
   "metadata": {},
   "outputs": [],
   "source": [
    "for list1 in range(0,10,2):\n",
    "    print(list1)"
   ]
  },
  {
   "cell_type": "code",
   "execution_count": null,
   "metadata": {},
   "outputs": [],
   "source": [
    "for list1 in range(1,10,2):\n",
    "    print(list1)"
   ]
  },
  {
   "cell_type": "code",
   "execution_count": null,
   "metadata": {},
   "outputs": [],
   "source": [
    "for members in [\"apple\",\"oranges\",\"cakes\",\"drinks\"]:\n",
    "    print(members)"
   ]
  },
  {
   "cell_type": "code",
   "execution_count": null,
   "metadata": {},
   "outputs": [],
   "source": [
    "list1 = [9,8,7,6,5,4,3,2,1]"
   ]
  },
  {
   "cell_type": "code",
   "execution_count": null,
   "metadata": {},
   "outputs": [],
   "source": [
    "for member in list1:\n",
    "    if member%2 != 0:\n",
    "        print(str(member) + \" is odd\")\n",
    "    else:\n",
    "        print(str(member) + \" is even\")"
   ]
  },
  {
   "cell_type": "code",
   "execution_count": null,
   "metadata": {},
   "outputs": [],
   "source": [
    "for member in list1:\n",
    "    if member%2 != 0:\n",
    "        print(str(member) + \" is odd\")\n",
    "   \n",
    "       \n",
    "    "
   ]
  },
  {
   "cell_type": "code",
   "execution_count": null,
   "metadata": {},
   "outputs": [],
   "source": [
    "oddnumberlist = []\n",
    "evennumberlist = []\n",
    "message = \"\"\n",
    "\n",
    "list1 = [1,2,3,4,5,6,7,8,9,10]\n",
    "\n",
    "for num in list1:\n",
    "    if num%2 != 0:\n",
    "        oddnumberlist.append(num)\n",
    "    else:\n",
    "        evennumberlist.append(num)\n",
    "\n",
    "message += \"THESE ARE ODD NUMBERS :\"\n",
    "\n",
    "for odd in oddnumberlist:\n",
    "    message += \"and \"\n",
    "    \n",
    "for even in evennumberlist:\n",
    "    message += str(even) + \",\"\n",
    "    \n",
    "message += \"are even numbers\"\n",
    "print(message)\n"
   ]
  },
  {
   "cell_type": "code",
   "execution_count": null,
   "metadata": {},
   "outputs": [],
   "source": [
    "even=[]\n",
    "odd=[]\n",
    "list1=[11,22,33,44,55,66,77,88]\n",
    "for num in list1:\n",
    "    if num%2==0:\n",
    "        even.append(num)\n",
    "    else:\n",
    "        odd.append(num)\n",
    "print(\"even\")\n",
    "for ev in even:\n",
    "    print(ev,end=' ')#spacing\n",
    "print(\"\\nodd\")\n",
    "for od in odd:\n",
    "    print(od,end=' ')#spacing"
   ]
  },
  {
   "cell_type": "code",
   "execution_count": null,
   "metadata": {},
   "outputs": [],
   "source": [
    "even=[]\n",
    "odd=[]\n",
    "list1=[11,22,33,44,55,66,77,88]\n",
    "for num in list1:\n",
    "    if num%2==0:\n",
    "        even.append(num)\n",
    "    else:\n",
    "        odd.append(num)\n",
    "print(\"even\")\n",
    "for ev in even:\n",
    "    print(ev)\n",
    "print(\"\\nodd\")\n",
    "for od in odd:\n",
    "    print(od)"
   ]
  },
  {
   "cell_type": "code",
   "execution_count": null,
   "metadata": {},
   "outputs": [],
   "source": [
    "friends = [\"ali\",\"abid\",\"shahzaib\",\"ahmed\",\"fatima\",\"sehar\",\"bunty\"]\n",
    "family = [\"moto\",\"golo\",\"bablo\",\"bubli\",\"tadda\",\"bunty\"]\n",
    "closedfriends=[]\n",
    "\n",
    "for members in friends:\n",
    "    if members in family:\n",
    "        closedfriends.append(members)\n",
    "        print(\"closedfriends\")\n",
    "    else:\n",
    "        print(\"sorry\")\n",
    "        \n",
    "        \n",
    "    \n",
    "   \n",
    "    \n",
    "    \n",
    "    \n"
   ]
  },
  {
   "cell_type": "markdown",
   "metadata": {},
   "source": [
    "# WORKING WITH LIST USING FOR LOOP"
   ]
  },
  {
   "cell_type": "code",
   "execution_count": null,
   "metadata": {},
   "outputs": [],
   "source": [
    "name = [\"ali\",\"abid\",\"shahzaib\",\"ahmed\",\"fatima\",\"sehar\"]\n",
    "for name in name[2:]:\n",
    "    print(name.upper())"
   ]
  },
  {
   "cell_type": "code",
   "execution_count": null,
   "metadata": {},
   "outputs": [],
   "source": [
    "name = [\"ali\",\"abid\",\"shahzaib\",\"ahmed\",\"fatima\",\"sehar\"]\n",
    "print(name[3])\n",
    "print(name[4])\n",
    "print(name[5])"
   ]
  },
  {
   "cell_type": "code",
   "execution_count": null,
   "metadata": {},
   "outputs": [],
   "source": [
    "pizza = [\"tikka\",\"fagita\",\"creemitikka\"]\n",
    "friends pizza = pizza[:]\n",
    "\n",
    "\n",
    "\n",
    "\n",
    "\n"
   ]
  },
  {
   "cell_type": "code",
   "execution_count": null,
   "metadata": {},
   "outputs": [],
   "source": [
    "currentusername = ['behroze','abdullah','shahzaib','shariq']\n",
    "newusername = ['ali','abid','ahmed','fatima','shahzaib']\n",
    "for name in newusername:\n",
    "    if name in currentusername:\n",
    "      print('enter new user name,',newusername)\n",
    "          \n",
    "else:\n",
    "    print('user name is available,',newusername)\n",
    "     \n",
    "       \n",
    "    \n",
    "\n"
   ]
  },
  {
   "cell_type": "markdown",
   "metadata": {},
   "source": [
    "# string formating\n"
   ]
  },
  {
   "cell_type": "code",
   "execution_count": null,
   "metadata": {},
   "outputs": [],
   "source": [
    "name = \"fahad\"\n",
    "f_name = \"ali\"\n",
    "print(\"my friend name is \"+ name+\" and his father name is \"+ f_name)"
   ]
  },
  {
   "cell_type": "code",
   "execution_count": null,
   "metadata": {},
   "outputs": [],
   "source": [
    "print(\"my friend name is {} and his father name is {}\".format(name,f_name))"
   ]
  },
  {
   "cell_type": "code",
   "execution_count": null,
   "metadata": {},
   "outputs": [],
   "source": [
    "print(F\"my friend name is {name} and his father name is {f_name}\")"
   ]
  },
  {
   "cell_type": "code",
   "execution_count": null,
   "metadata": {},
   "outputs": [],
   "source": [
    "num=45\n",
    "name=\"asad\"\n",
    "\n",
    "print(f\"my name is {name} and my number is {num} num\")\n"
   ]
  },
  {
   "cell_type": "code",
   "execution_count": null,
   "metadata": {},
   "outputs": [],
   "source": [
    "person = \"Nasir\""
   ]
  },
  {
   "cell_type": "code",
   "execution_count": null,
   "metadata": {},
   "outputs": [],
   "source": [
    "print('my name is {}'.format(person))"
   ]
  },
  {
   "cell_type": "markdown",
   "metadata": {},
   "source": [
    "# tupple"
   ]
  },
  {
   "cell_type": "markdown",
   "metadata": {},
   "source": [
    "A tuple is a sequence of immutable Python objects. Tuples are sequences, just like lists. The differences between tuples and lists are, the tuples cannot be changed unlike lists and tuples use parentheses, whereas lists use square brackets. tup1 = (50,);"
   ]
  },
  {
   "cell_type": "code",
   "execution_count": null,
   "metadata": {},
   "outputs": [],
   "source": [
    "friends = ('Hamza' , 'Umer' , 'Zohaib' , 'Azhar' , 'Fahad')\n",
    "print(friends[2])"
   ]
  },
  {
   "cell_type": "code",
   "execution_count": null,
   "metadata": {},
   "outputs": [],
   "source": [
    "cities = (\"Atlanta\", \"Baltimore\", \"Chicago\",\"Denver\", \"Los Angeles\", \"Seattle\")\n",
    "mycities = cities[4]\n",
    "print(\"I belong to \" + mycities.upper() + '.')"
   ]
  },
  {
   "cell_type": "code",
   "execution_count": null,
   "metadata": {},
   "outputs": [],
   "source": [
    "tup1 = ('physics', 'chemistry', 1997, 2000)\n",
    "tup2 = (1, 2, 3, 4, 5, 6, 7 )\n",
    "print(\"tup1[0]: \",tup1[0])\n",
    "print(\"tup2[1:5]: \",tup2[1:5])"
   ]
  },
  {
   "cell_type": "code",
   "execution_count": null,
   "metadata": {},
   "outputs": [],
   "source": [
    "tup1 = (12, 34.56)\n",
    "tup2 = ('abc', 'xyz')\n",
    "\n",
    "tup3 = tup1 + tup2\n",
    "print(tup3)"
   ]
  },
  {
   "cell_type": "code",
   "execution_count": null,
   "metadata": {},
   "outputs": [],
   "source": [
    "tup = ('physics', 'chemistry', 1997, 2000)\n",
    "print (tup)\n",
    "del tup\n",
    "print (\"After deleting tup : \")\n",
    "print (tup)"
   ]
  },
  {
   "cell_type": "code",
   "execution_count": null,
   "metadata": {},
   "outputs": [],
   "source": [
    "thistuple = (\"apple\", \"banana\", \"cherry\")\n",
    "thistuple[1] = \"blackcurrant\"\n",
    "# The values will remain the same:\n",
    "print(thistuple)"
   ]
  },
  {
   "cell_type": "code",
   "execution_count": null,
   "metadata": {},
   "outputs": [],
   "source": [
    "thistuple = (\"apple\", \"banana\", \"cherry\")\n",
    "for x in thistuple:\n",
    "    print(x)"
   ]
  },
  {
   "cell_type": "code",
   "execution_count": null,
   "metadata": {},
   "outputs": [],
   "source": [
    "thistuple = (\"apple\", \"banana\", \"cherry\")\n",
    "if \"apple\" in thistuple:\n",
    "    print(\"Yes, 'apple' is in the fruits tuple\")"
   ]
  },
  {
   "cell_type": "code",
   "execution_count": null,
   "metadata": {},
   "outputs": [],
   "source": [
    "thistuple = (\"apple\", \"banana\", \"cherry\")\n",
    "if \"strawberry\" in thistuple:\n",
    "    print(\"Yes, 'apple' is in the fruits tuple\")\n",
    "else:\n",
    "    print(\"No Strawberry in your tuple\")"
   ]
  },
  {
   "cell_type": "code",
   "execution_count": null,
   "metadata": {},
   "outputs": [],
   "source": [
    "thistuple = (\"apple\", \"banana\", \"cherry\")\n",
    "print(len(thistuple))"
   ]
  },
  {
   "cell_type": "code",
   "execution_count": null,
   "metadata": {},
   "outputs": [],
   "source": [
    "tup3 = \"a\",\"b\",\"c\",\"d\"\n",
    "print(tup3)\n",
    "print(type(tup3))"
   ]
  },
  {
   "cell_type": "markdown",
   "metadata": {},
   "source": [
    "# Dictionaries"
   ]
  },
  {
   "cell_type": "markdown",
   "metadata": {},
   "source": [
    "a = {'key':'value'}\n",
    "there is not index in dict"
   ]
  },
  {
   "cell_type": "code",
   "execution_count": null,
   "metadata": {},
   "outputs": [],
   "source": [
    "alien_0 = {'color':'green','points':5}\n",
    "print(alien_0['color'])\n",
    "print(alien_0['points'])"
   ]
  },
  {
   "cell_type": "code",
   "execution_count": null,
   "metadata": {},
   "outputs": [],
   "source": [
    "alien_0 = {'color':'green','points':5}\n",
    "new_points = alien_0['points']\n",
    "print(\"you just earned \" + str(new_points)+ \" points!\")"
   ]
  },
  {
   "cell_type": "code",
   "execution_count": null,
   "metadata": {},
   "outputs": [],
   "source": [
    "#adding new key , value in dict\n",
    "alien_0 = {'color': 'green', 'points': 5}\n",
    "print(alien_0)\n",
    "alien_0['x_position'] = 0\n",
    "alien_0['y_position'] = 25\n",
    "print(alien_0)"
   ]
  },
  {
   "cell_type": "code",
   "execution_count": null,
   "metadata": {},
   "outputs": [],
   "source": [
    "foods = {}\n",
    "foods['karahi'] = ['favourite','pishawari','balochi']\n",
    "foods['sheep'] = 'boti kabab'\n",
    "foods['biryani'] = 'yummy'\n",
    "foods['bbq'] = 'malai boti'\n",
    "foods['shake'] = 'mango'\n",
    "foods['ice creem'] = {'yummy':'flavour','chocolate':'mango','orange':}\n",
    "foods['ice creem'][yummy][2]\n",
    "print(foods)\n",
    "foods['karahi'][1]"
   ]
  },
  {
   "cell_type": "code",
   "execution_count": null,
   "metadata": {},
   "outputs": [],
   "source": [
    "players = {'Watson':'Australian International Cricketer'}\n",
    "print(\"Shane Robert Watson is a \" + players['Watson'] + '.')\n",
    "\n",
    "players = {'Imam ul Haq': 'parchi'}\n",
    "print(\"\\nWe all know that Imam ul Haq is a \" + players['Imam ul Haq'].upper() + \".\")"
   ]
  },
  {
   "cell_type": "code",
   "execution_count": null,
   "metadata": {},
   "outputs": [],
   "source": [
    "psl = {'karachi': 'kings', 'multan':'sultan', 'zalmi': 'won'}\n",
    "print(\"Karachi is: \" + str(psl['karachi']))\n",
    "\n",
    "if psl['zalmi'] == 'loser':\n",
    "    x_increment = 1\n",
    "elif psl['zalmi'] == 'won':\n",
    "    x_increment = 2\n",
    "else:\n",
    "    x_increment = 3\n",
    "    \n",
    "psl['zalmi'] = psl['zalmi'] + str(x_increment)\n",
    "print(\"PSL4 zalmi : \" + str(psl['zalmi']))"
   ]
  },
  {
   "cell_type": "code",
   "execution_count": null,
   "metadata": {},
   "outputs": [],
   "source": []
  },
  {
   "cell_type": "code",
   "execution_count": null,
   "metadata": {},
   "outputs": [],
   "source": []
  },
  {
   "cell_type": "code",
   "execution_count": null,
   "metadata": {},
   "outputs": [],
   "source": []
  },
  {
   "cell_type": "code",
   "execution_count": null,
   "metadata": {},
   "outputs": [],
   "source": []
  },
  {
   "cell_type": "code",
   "execution_count": null,
   "metadata": {},
   "outputs": [],
   "source": []
  },
  {
   "cell_type": "markdown",
   "metadata": {},
   "source": [
    "# Removing Key-Value Pairs"
   ]
  },
  {
   "cell_type": "markdown",
   "metadata": {},
   "source": [
    "# A Dictionary of Similar Objects\n"
   ]
  },
  {
   "cell_type": "code",
   "execution_count": null,
   "metadata": {},
   "outputs": [],
   "source": [
    "dict1 = {'a':5,'b':15,'c':25}\n",
    "for key1 , value1 in dict1.items():\n",
    "    print(key1,value1)"
   ]
  },
  {
   "cell_type": "code",
   "execution_count": null,
   "metadata": {},
   "outputs": [],
   "source": [
    "for key3 in dict1.keys():\n",
    "    print(key1,value1)"
   ]
  },
  {
   "cell_type": "code",
   "execution_count": null,
   "metadata": {},
   "outputs": [],
   "source": [
    "for value3 in dict1.values():\n",
    "    print(value3)"
   ]
  },
  {
   "cell_type": "code",
   "execution_count": null,
   "metadata": {},
   "outputs": [],
   "source": [
    "dict2 = {'firstname':'habib','lastname':'khan','city':'karachi','age':'eighteen'}\n",
    "\n",
    "print(\"My name is \" + dict2['firstname'].title() + '.')\n",
    "print(\"My last name is \" + dict2['lastname'].title() + '.')\n",
    "print(\"My city is \" + dict2['city'].title() + '.')\n",
    "print(\"My age is \" + dict2['age'].title() + '.')"
   ]
  },
  {
   "cell_type": "code",
   "execution_count": null,
   "metadata": {},
   "outputs": [],
   "source": [
    "#by format\n",
    "dict2 = {'firstname':'habib','lastname':'khan','city':'karachi','age':'eighteen'}\n",
    "\n",
    "print(\"My firstname is {}\".format(dict2['firstname']).title())\n",
    "print(\"My lastname is {}\".format(dict2['lastname']).title())\n",
    "print(\"My city is {}\".format(dict2['city']).title())\n",
    "print(\"My age is {}\".format(dict2['age']).title())"
   ]
  },
  {
   "cell_type": "markdown",
   "metadata": {},
   "source": [
    "# Looping Through a Dictionary"
   ]
  },
  {
   "cell_type": "code",
   "execution_count": null,
   "metadata": {},
   "outputs": [],
   "source": [
    "\n",
    "user_0 = {'Teacher': 'Sir Nasir','Teacher_Assistant': 'Shahzad Ahsan','Student': 'Anas'}\n",
    "\n",
    "for key, value in user_0.items():\n",
    "    \n",
    "    \n",
    "    print(\"\\nKey: \" + key)\n",
    "    print(\"Value: \" + value)"
   ]
  },
  {
   "cell_type": "code",
   "execution_count": null,
   "metadata": {},
   "outputs": [],
   "source": [
    "names = {'Shahzad':'Ahsan' , 'Sara Ali':'Khan' , 'Komal':'Aftab' , 'Hassan':'Dhedhi'}\n",
    "\n",
    "for first_name , last_name in names.items():\n",
    "    \n",
    "    print('My First name is ' + first_name.title() + ' and my last name is ' + last_name.title() + '.')"
   ]
  },
  {
   "cell_type": "code",
   "execution_count": null,
   "metadata": {},
   "outputs": [],
   "source": [
    "alien1 = {'name':'last_name' , 'color':'green' , 'height':'5.7' , 'weight':'67'}\n",
    "\n",
    "if 'last_name' not in alien1.keys():\n",
    "    \n",
    "    print(\"Please write your last name also...\")"
   ]
  },
  {
   "cell_type": "markdown",
   "metadata": {},
   "source": [
    "# Looping Through All the Keys in a Dictionary"
   ]
  },
  {
   "cell_type": "code",
   "execution_count": null,
   "metadata": {},
   "outputs": [],
   "source": [
    "\n",
    "name1 = {'Sheharyar':'Zafar' , 'Saif':'Zafar' , 'Zohiab':'owais' , 'umer':'najeeb' ,'ali':'khan' , 'ahmed':'amjad' , \n",
    "        'naveed':'zia'}\n",
    "\n",
    "for new_names in sorted(name1.keys()):\n",
    "    \n",
    "    print(new_names.upper() + ', have a good day.')"
   ]
  },
  {
   "cell_type": "code",
   "execution_count": null,
   "metadata": {},
   "outputs": [],
   "source": [
    "\n",
    "favorite_languages = {'jen': 'python','sarah': 'c','edward': 'ruby','phil': 'python'}\n",
    "\n",
    "for name in sorted(favorite_languages.keys()):\n",
    "    print(name.title() + \", thank you for taking the poll.\")"
   ]
  },
  {
   "cell_type": "code",
   "execution_count": null,
   "metadata": {},
   "outputs": [],
   "source": [
    "list1 = [99,29,88,47,66,47,99,48,44]\n"
   ]
  },
  {
   "cell_type": "code",
   "execution_count": null,
   "metadata": {},
   "outputs": [],
   "source": [
    "ret = sorted(list1,reverse=True)"
   ]
  },
  {
   "cell_type": "code",
   "execution_count": null,
   "metadata": {},
   "outputs": [],
   "source": [
    "ret"
   ]
  },
  {
   "cell_type": "code",
   "execution_count": null,
   "metadata": {},
   "outputs": [],
   "source": [
    "list1"
   ]
  },
  {
   "cell_type": "code",
   "execution_count": null,
   "metadata": {},
   "outputs": [],
   "source": [
    "ret=(reversed(list1))"
   ]
  },
  {
   "cell_type": "code",
   "execution_count": null,
   "metadata": {},
   "outputs": [],
   "source": [
    "\n",
    "alien_0 = {'color': 'green', 'points': \"5\"}\n",
    "alien_1 = {'color': 'yellow', 'points': \"10\"}\n",
    "alien_2 = {'color': 'red', 'points': \"15\"}\n",
    "\n",
    "aliens = [alien_0,alien_1,alien_2]\n",
    "\n",
    "\n",
    "for alien in aliens:\n",
    "    for key,value in alien.items():\n",
    "        print(\"\\n key \" + key)\n",
    "        print(\"value \" + value)\n",
    "  "
   ]
  },
  {
   "cell_type": "code",
   "execution_count": null,
   "metadata": {},
   "outputs": [],
   "source": [
    "numbers=[1,2,3,4,5,6,7,8,9,10]\n",
    "for table in [2,3,4,5]:\n",
    "    for num in numbers:\n",
    "        print(f\"{table}*{num} = {table*num}\")"
   ]
  },
  {
   "cell_type": "markdown",
   "metadata": {},
   "source": [
    "# A Dictionary in a Dictionary"
   ]
  },
  {
   "cell_type": "code",
   "execution_count": null,
   "metadata": {},
   "outputs": [],
   "source": [
    "\n",
    "users = {'sheikh': {'first': 'shahzad','last': 'ahsan','location': 'bahdurabad',},'sir': {'first': 'nasir','last': 'hussain','location': 'gulshan',}}\n",
    "for username, user_info in users.items():\n",
    "    print(\"\\nUsername: \" + username)\n",
    "    full_name = user_info[\"first\"] + \" \" + user_info[\"last\"]\n",
    "    location = user_info['location']\n",
    "    print(\"\\tfull name: \" + full_name.title())\n",
    "    print(\"\\tlocation: \" + location.title())"
   ]
  },
  {
   "cell_type": "code",
   "execution_count": null,
   "metadata": {},
   "outputs": [],
   "source": [
    "users = {'sheikh': {'first': 'shahzad','last': 'ahsan','location': 'bahdurabad',},'sir': {'first': 'nasir','last': 'hussain','location': 'gulshan',}}\n",
    "for username, user_info in users.items():\n",
    "    print(\"\\nUsername: \" + username)\n",
    "    full_name = user_info['first'] + \" \" + user_info['last']\n",
    "    location = user_info['location']\n",
    "    print(\"\\tFull name: \" + full_name.title())\n",
    "    print(\"\\tLocation: \" + location.title())"
   ]
  },
  {
   "cell_type": "markdown",
   "metadata": {},
   "source": [
    "# looping"
   ]
  },
  {
   "cell_type": "code",
   "execution_count": null,
   "metadata": {},
   "outputs": [],
   "source": [
    "a = 10\n",
    "while a>=0:\n",
    "    print(a,\"hello\")\n",
    "    a -=1"
   ]
  },
  {
   "cell_type": "code",
   "execution_count": null,
   "metadata": {},
   "outputs": [],
   "source": [
    "a = 1\n",
    "while a<10:\n",
    "    print(a,\"hello\")\n",
    "    a +=1"
   ]
  },
  {
   "cell_type": "code",
   "execution_count": null,
   "metadata": {},
   "outputs": [],
   "source": [
    "for a in range(0,10):\n",
    "    print(a,\"hello\")\n",
    "    \n"
   ]
  },
  {
   "cell_type": "code",
   "execution_count": null,
   "metadata": {},
   "outputs": [],
   "source": [
    "a = 1\n",
    "while a<10:\n",
    "    print(a,\"odd numbers\")\n",
    "    a +=2"
   ]
  },
  {
   "cell_type": "code",
   "execution_count": null,
   "metadata": {},
   "outputs": [],
   "source": [
    "a = 10\n",
    "while a>=0:\n",
    "    print(a,\"even numbers\")\n",
    "    a -=2"
   ]
  },
  {
   "cell_type": "code",
   "execution_count": null,
   "metadata": {},
   "outputs": [],
   "source": [
    "num=int(input(\"enter number : \"))\n",
    "while num==9:\n",
    "    print(\"nine is entered\")\n",
    "    "
   ]
  },
  {
   "cell_type": "code",
   "execution_count": null,
   "metadata": {},
   "outputs": [],
   "source": [
    "condition = True\n",
    "while condition:\n",
    "    num=input(\"enter number : \")\n",
    "    if num == \"q\":\n",
    "        print(\"you are out now\")\n",
    "        condition =False\n",
    "    else:\n",
    "        print(\"The square of the number is\", int(num)**2)\n",
    "    "
   ]
  },
  {
   "cell_type": "code",
   "execution_count": null,
   "metadata": {},
   "outputs": [],
   "source": [
    "condition = True\n",
    "while condition:\n",
    "        num1=int(input(\"enter number : \"))\n",
    "        num2=int(input(\"enter number : \"))\n",
    "        print(\"add1\" + \"\\nsubtract2\" + \"\\nmultiple3\" + \"\\ndivide4\")\n",
    "        user =int(input(\"enter number\"))\n",
    "        if user ==1:\n",
    "            print(int(num1+num2))\n",
    "        elif user ==2:\n",
    "            print(int(num1-num2))\n",
    "        elif user ==3:\n",
    "            print(int(num1*num2))\n",
    "        elif user ==4:\n",
    "            print(int(num1/num2))\n",
    "        \n",
    "            \n",
    "        \n",
    "    \n",
    "        \n",
    "         \n",
    "        "
   ]
  },
  {
   "cell_type": "code",
   "execution_count": null,
   "metadata": {},
   "outputs": [],
   "source": [
    "while True:\n",
    "    a = int(input(\"Enter for money: \"))\n",
    "    if a == 0:\n",
    "        print(\"you have zero cash\")\n",
    "    else:\n",
    "        print(\"hahahahah\")\n",
    "        break"
   ]
  },
  {
   "cell_type": "code",
   "execution_count": null,
   "metadata": {},
   "outputs": [],
   "source": [
    "prompt = \"Tell me something i'll repeat to you: \"\n",
    "prompt += \"\\nEnter 'quit' to close the program.\"\n",
    "message = ''\n",
    "while message != 'quit':\n",
    "    message = input(prompt).lower()\n",
    "    print(message)"
   ]
  },
  {
   "cell_type": "code",
   "execution_count": null,
   "metadata": {},
   "outputs": [],
   "source": [
    "print(\"Enter your today schedule\")\n",
    "print(\"Enter Done when done with scheduling\")\n",
    "\n",
    "todo_list = []\n",
    "while True:\n",
    "    list = input(\">  \")\n",
    "    if list == 'quit':\n",
    "        break\n",
    "    todo_list.append(list)\n",
    "\n",
    "\n",
    "print(\"\\nHere is your all day schedule\")\n",
    "for todo in todo_list:\n",
    "    print(todo.title())"
   ]
  },
  {
   "cell_type": "code",
   "execution_count": null,
   "metadata": {},
   "outputs": [],
   "source": [
    "while True:\n",
    "    city = input(\"\\nEnter the name of the city you want to visit? \\nEnter 'quit' to close the program: \" ).lower()\n",
    "    if city == 'quit':\n",
    "        break\n",
    "    else:\n",
    "        print(\"I will love to go to \" + city.title() + '...' )"
   ]
  },
  {
   "cell_type": "code",
   "execution_count": null,
   "metadata": {},
   "outputs": [],
   "source": [
    "\n",
    "CleanCity = ['karachi' , 'Santa Fe' , 'Tucson' , 'Great Falls']\n",
    "user_input = \"\"\n",
    "while user_input != 'q':\n",
    "    user_input = input('Enter a name of the city , or press \"q\" to terminate the program: ')\n",
    "    if user_input != \"q\":\n",
    "        for CleanCitys in CleanCity:\n",
    "            if user_input == CleanCitys:\n",
    "                print(\"It's one of the cleanest city.\")\n",
    "                break\n",
    "    else:\n",
    "        print(\"It's not a cleanest city\")\n",
    "        break"
   ]
  },
  {
   "cell_type": "code",
   "execution_count": null,
   "metadata": {},
   "outputs": [
    {
     "name": "stdout",
     "output_type": "stream",
     "text": [
      "which flavour would you like to eat: chicken tikka\n",
      "flavour would you like to eat chicken tikka.\n",
      "Enter the size of pizza: 13 inch\n",
      "The size of the pizza is 13 inch.\n",
      "enter your topping. cheese\n",
      "your fav topping is cheese.\n"
     ]
    }
   ],
   "source": [
    "pizza = []\n",
    "while True:\n",
    "    pizza_flavour = input('which flavour would you like to eat: ')\n",
    "    if pizza_flavour == \"done\":\n",
    "        break\n",
    "    else:\n",
    "        print(\"flavour would you like to eat \" + pizza_flavour + \".\")\n",
    "    pizza_size = input(\"Enter the size of pizza: \")\n",
    "    if pizza_size == \"done\":\n",
    "        break\n",
    "    else:\n",
    "        print(\"The size of the pizza is \" + pizza_size + \".\")\n",
    "    pizza_topping = input(\"enter your topping. \")\n",
    "    if pizza_topping == \"done\":\n",
    "        break\n",
    "    else:\n",
    "        print(\"your fav topping is \" + pizza_topping + \".\")\n",
    "\n",
    "   \n",
    "    "
   ]
  },
  {
   "cell_type": "code",
   "execution_count": null,
   "metadata": {},
   "outputs": [],
   "source": []
  }
 ],
 "metadata": {
  "kernelspec": {
   "display_name": "Python 3",
   "language": "python",
   "name": "python3"
  }
 },
 "nbformat": 4,
 "nbformat_minor": 2
}
